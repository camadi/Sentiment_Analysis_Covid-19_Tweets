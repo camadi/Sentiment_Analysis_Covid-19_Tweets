{
 "cells": [
  {
   "cell_type": "code",
   "execution_count": 134,
   "metadata": {},
   "outputs": [
    {
     "name": "stdout",
     "output_type": "stream",
     "text": [
      "[nltk_data] Downloading package vader_lexicon to\n",
      "[nltk_data]     /usr/share/nltk_data...\n",
      "[nltk_data]   Package vader_lexicon is already up-to-date!\n"
     ]
    }
   ],
   "source": [
    "#Fetching tweets\n",
    "from twitterscraper import query_tweets\n",
    "\n",
    "import datetime as dt \n",
    "import time\n",
    "\n",
    "#Dataframe\n",
    "import pandas as pd \n",
    "\n",
    "# Numpy array\n",
    "import numpy as np\n",
    "\n",
    "#Extracting languages\n",
    "import cld3\n",
    "\n",
    "#Regex for preprocessing\n",
    "import re\n",
    "\n",
    "#Counting\n",
    "from collections import Counter\n",
    "\n",
    "#Plotting words\n",
    "from wordcloud import WordCloud\n",
    "\n",
    "#Disable pandas SettingWithCopyWarning\n",
    "pd.options.mode.chained_assignment = None;  # default='warn'\n",
    "\n",
    "# Scikit-learn tools\n",
    "from sklearn.model_selection import train_test_split\n",
    "from sklearn.preprocessing import LabelEncoder\n",
    "from sklearn.metrics import confusion_matrix, classification_report, accuracy_score\n",
    "from sklearn.manifold import TSNE\n",
    "from sklearn.feature_extraction.text import TfidfVectorizer\n",
    "\n",
    "# NLTK\n",
    "import nltk\n",
    "from nltk.corpus import stopwords\n",
    "from nltk.stem.porter import PorterStemmer \n",
    "from nltk.stem import WordNetLemmatizer \n",
    "from nltk.sentiment.vader import SentimentIntensityAnalyzer\n",
    "#nltk.download('vader_lexicon')\n",
    "\n",
    "#Matplotlib and seaborn plotting\n",
    "from matplotlib import pyplot as plt\n",
    "import seaborn as sns\n",
    "\n",
    "# Keras\n",
    "from keras.preprocessing.text import Tokenizer\n",
    "from keras.preprocessing.sequence import pad_sequences\n",
    "from keras.models import Sequential\n",
    "from keras.layers import Activation, Dense, Dropout, Embedding, Flatten, Conv1D, MaxPooling1D, LSTM, GlobalMaxPool1D\n",
    "from keras import utils\n",
    "from keras.callbacks import ReduceLROnPlateau, EarlyStopping, ModelCheckpoint\n",
    "\n",
    "# Word2vec\n",
    "import gensim\n",
    "\n",
    "import spacy"
   ]
  },
  {
   "cell_type": "code",
   "execution_count": 3,
   "metadata": {},
   "outputs": [],
   "source": [
    "#nltk.download('wordnet')\n",
    "#!pip install pycld3"
   ]
  },
  {
   "cell_type": "markdown",
   "metadata": {},
   "source": [
    "## Training Twitter model using `Sentiment140` dataset"
   ]
  },
  {
   "cell_type": "code",
   "execution_count": 5,
   "metadata": {},
   "outputs": [
    {
     "data": {
      "text/html": [
       "<div>\n",
       "<style scoped>\n",
       "    .dataframe tbody tr th:only-of-type {\n",
       "        vertical-align: middle;\n",
       "    }\n",
       "\n",
       "    .dataframe tbody tr th {\n",
       "        vertical-align: top;\n",
       "    }\n",
       "\n",
       "    .dataframe thead th {\n",
       "        text-align: right;\n",
       "    }\n",
       "</style>\n",
       "<table border=\"1\" class=\"dataframe\">\n",
       "  <thead>\n",
       "    <tr style=\"text-align: right;\">\n",
       "      <th></th>\n",
       "      <th>target</th>\n",
       "      <th>id</th>\n",
       "      <th>date</th>\n",
       "      <th>flag</th>\n",
       "      <th>user</th>\n",
       "      <th>text</th>\n",
       "    </tr>\n",
       "  </thead>\n",
       "  <tbody>\n",
       "    <tr>\n",
       "      <th>0</th>\n",
       "      <td>0</td>\n",
       "      <td>1467810672</td>\n",
       "      <td>Mon Apr 06 22:19:49 PDT 2009</td>\n",
       "      <td>NO_QUERY</td>\n",
       "      <td>scotthamilton</td>\n",
       "      <td>is upset that he can't update his Facebook by ...</td>\n",
       "    </tr>\n",
       "    <tr>\n",
       "      <th>1</th>\n",
       "      <td>0</td>\n",
       "      <td>1467810917</td>\n",
       "      <td>Mon Apr 06 22:19:53 PDT 2009</td>\n",
       "      <td>NO_QUERY</td>\n",
       "      <td>mattycus</td>\n",
       "      <td>@Kenichan I dived many times for the ball. Man...</td>\n",
       "    </tr>\n",
       "    <tr>\n",
       "      <th>2</th>\n",
       "      <td>0</td>\n",
       "      <td>1467811184</td>\n",
       "      <td>Mon Apr 06 22:19:57 PDT 2009</td>\n",
       "      <td>NO_QUERY</td>\n",
       "      <td>ElleCTF</td>\n",
       "      <td>my whole body feels itchy and like its on fire</td>\n",
       "    </tr>\n",
       "    <tr>\n",
       "      <th>3</th>\n",
       "      <td>0</td>\n",
       "      <td>1467811193</td>\n",
       "      <td>Mon Apr 06 22:19:57 PDT 2009</td>\n",
       "      <td>NO_QUERY</td>\n",
       "      <td>Karoli</td>\n",
       "      <td>@nationwideclass no, it's not behaving at all....</td>\n",
       "    </tr>\n",
       "    <tr>\n",
       "      <th>4</th>\n",
       "      <td>0</td>\n",
       "      <td>1467811372</td>\n",
       "      <td>Mon Apr 06 22:20:00 PDT 2009</td>\n",
       "      <td>NO_QUERY</td>\n",
       "      <td>joy_wolf</td>\n",
       "      <td>@Kwesidei not the whole crew</td>\n",
       "    </tr>\n",
       "  </tbody>\n",
       "</table>\n",
       "</div>"
      ],
      "text/plain": [
       "   target          id                          date      flag           user  \\\n",
       "0       0  1467810672  Mon Apr 06 22:19:49 PDT 2009  NO_QUERY  scotthamilton   \n",
       "1       0  1467810917  Mon Apr 06 22:19:53 PDT 2009  NO_QUERY       mattycus   \n",
       "2       0  1467811184  Mon Apr 06 22:19:57 PDT 2009  NO_QUERY        ElleCTF   \n",
       "3       0  1467811193  Mon Apr 06 22:19:57 PDT 2009  NO_QUERY         Karoli   \n",
       "4       0  1467811372  Mon Apr 06 22:20:00 PDT 2009  NO_QUERY       joy_wolf   \n",
       "\n",
       "                                                text  \n",
       "0  is upset that he can't update his Facebook by ...  \n",
       "1  @Kenichan I dived many times for the ball. Man...  \n",
       "2    my whole body feels itchy and like its on fire   \n",
       "3  @nationwideclass no, it's not behaving at all....  \n",
       "4                      @Kwesidei not the whole crew   "
      ]
     },
     "execution_count": 5,
     "metadata": {},
     "output_type": "execute_result"
    }
   ],
   "source": [
    "sent_df = pd.read_csv('data/training.1600000.processed.noemoticon.csv', encoding = \"ISO-8859-1\")\n",
    "sent_df.columns = [\"target\", \"id\", \"date\", \"flag\", \"user\", \"text\"]\n",
    "sent_df.head()"
   ]
  },
  {
   "cell_type": "code",
   "execution_count": null,
   "metadata": {},
   "outputs": [],
   "source": [
    "# sent_df = pd.read_csv('data/training.1600000.processed.noemoticon.csv', encoding = \"ISO-8859-1\")\n",
    "# sent_df.columns = [\"target\", \"id\", \"date\", \"flag\", \"user\", \"text\"]\n",
    "# sent_df.head()"
   ]
  },
  {
   "cell_type": "markdown",
   "metadata": {},
   "source": [
    "### Dataset Information\n",
    "  \n",
    "- **target**: the polarity of the tweet (0 = negative, 2 = neutral, 4 = positive)\n",
    "- **ids**: The id of the tweet ( 2087)\n",
    "- **date**: the date of the tweet (Sat May 16 23:58:44 UTC 2009)\n",
    "- **flag**: The query (lyx). If there is no query, then this value is NO_QUERY.\n",
    "- **user**: the user that tweeted (robotickilldozr)\n",
    "- **text**: the text of the tweet (Lyx is cool)"
   ]
  },
  {
   "cell_type": "code",
   "execution_count": 6,
   "metadata": {},
   "outputs": [
    {
     "name": "stdout",
     "output_type": "stream",
     "text": [
      "Shape of dataset: (1599999, 6)\n"
     ]
    }
   ],
   "source": [
    "print(\"Shape of dataset:\", (sent_df).shape)"
   ]
  },
  {
   "cell_type": "code",
   "execution_count": 7,
   "metadata": {},
   "outputs": [
    {
     "data": {
      "text/plain": [
       "array([0, 4])"
      ]
     },
     "execution_count": 7,
     "metadata": {},
     "output_type": "execute_result"
    }
   ],
   "source": [
    "sent_df['target'].unique()"
   ]
  },
  {
   "cell_type": "markdown",
   "metadata": {},
   "source": [
    "### Assigning target labels to sentiments\n",
    "- **0** -> **negative**\n",
    "- **4** -> **positive**"
   ]
  },
  {
   "cell_type": "code",
   "execution_count": 8,
   "metadata": {},
   "outputs": [],
   "source": [
    "sentiment_label = {0: \"negative\", 4: \"positive\"}\n",
    "def sentiment_code(label):\n",
    "    return sentiment_label[int(label)]"
   ]
  },
  {
   "cell_type": "code",
   "execution_count": 9,
   "metadata": {},
   "outputs": [],
   "source": [
    "sent_df['target'] = sent_df['target'].apply(lambda x: sentiment_code(x))"
   ]
  },
  {
   "cell_type": "code",
   "execution_count": 10,
   "metadata": {},
   "outputs": [
    {
     "data": {
      "text/plain": [
       "array(['negative', 'positive'], dtype=object)"
      ]
     },
     "execution_count": 10,
     "metadata": {},
     "output_type": "execute_result"
    }
   ],
   "source": [
    "sent_df['target'].unique()"
   ]
  },
  {
   "cell_type": "code",
   "execution_count": 11,
   "metadata": {},
   "outputs": [],
   "source": [
    "target_counts = Counter(sent_df['target'])"
   ]
  },
  {
   "cell_type": "code",
   "execution_count": 12,
   "metadata": {},
   "outputs": [
    {
     "data": {
      "image/png": "[encoded data removed]",
      "text/plain": [
       "<Figure size 1152x576 with 1 Axes>"
      ]
     },
     "metadata": {
      "needs_background": "light"
     },
     "output_type": "display_data"
    }
   ],
   "source": [
    "#Plotting\n",
    "plt.figure(figsize=(16,8))\n",
    "plt.bar(target_counts.keys(), target_counts.values())\n",
    "plt.title(\"Sentiment Labels Distribution\")\n",
    "plt.show()"
   ]
  },
  {
   "cell_type": "markdown",
   "metadata": {},
   "source": [
    "### Pre-preprocess Data"
   ]
  },
  {
   "cell_type": "code",
   "execution_count": 13,
   "metadata": {},
   "outputs": [],
   "source": [
    "stemmer = PorterStemmer()\n",
    "lemmatizer = WordNetLemmatizer()\n",
    "stop = stopwords.words('english')\n",
    "nlp = spacy.load(\"en_core_web_sm\")"
   ]
  },
  {
   "cell_type": "code",
   "execution_count": 14,
   "metadata": {
    "_kg_hide-input": false
   },
   "outputs": [],
   "source": [
    "def preprocess(text, lemmatize=True):\n",
    "    # Remove url, change to lower case\n",
    "    text = re.sub('http\\S+|www\\S+', ' ', str(text).lower())\n",
    "    # remove picture links \n",
    "    text = re.sub('pic\\S*\\s?', ' ', text)\n",
    "    # remove all handles\n",
    "    text = re.sub('@\\S+', ' ', text)\n",
    "    # remove special characters\n",
    "    text = re.sub('[^A-Za-z0-9]+', ' ', text)\n",
    "    #remove all multiple white spaces \n",
    "    text = re.sub('[\\s]+', ' ', text).strip()\n",
    "    \n",
    "    text = ' '.join([word for word in text.split() if word not in (stop)])\n",
    "    \n",
    "    if lemmatize:\n",
    "        word_list = nltk.word_tokenize(text)\n",
    "        lemmatized_output = ' '.join([lemmatizer.lemmatize(w) for w in word_list])\n",
    "        return lemmatized_output#\" \".join(tokens)\n",
    "    else:\n",
    "        return text"
   ]
  },
  {
   "cell_type": "code",
   "execution_count": 15,
   "metadata": {},
   "outputs": [
    {
     "name": "stdout",
     "output_type": "stream",
     "text": [
      "CPU times: user 7min 33s, sys: 1.15 s, total: 7min 35s\n",
      "Wall time: 7min 38s\n"
     ]
    }
   ],
   "source": [
    "%%time\n",
    "sent_df['prep_text'] = sent_df['text'].apply(lambda x: preprocess(x))"
   ]
  },
  {
   "cell_type": "code",
   "execution_count": 16,
   "metadata": {},
   "outputs": [
    {
     "data": {
      "text/html": [
       "<div>\n",
       "<style scoped>\n",
       "    .dataframe tbody tr th:only-of-type {\n",
       "        vertical-align: middle;\n",
       "    }\n",
       "\n",
       "    .dataframe tbody tr th {\n",
       "        vertical-align: top;\n",
       "    }\n",
       "\n",
       "    .dataframe thead th {\n",
       "        text-align: right;\n",
       "    }\n",
       "</style>\n",
       "<table border=\"1\" class=\"dataframe\">\n",
       "  <thead>\n",
       "    <tr style=\"text-align: right;\">\n",
       "      <th></th>\n",
       "      <th>target</th>\n",
       "      <th>id</th>\n",
       "      <th>date</th>\n",
       "      <th>flag</th>\n",
       "      <th>user</th>\n",
       "      <th>text</th>\n",
       "      <th>prep_text</th>\n",
       "    </tr>\n",
       "  </thead>\n",
       "  <tbody>\n",
       "    <tr>\n",
       "      <th>0</th>\n",
       "      <td>negative</td>\n",
       "      <td>1467810672</td>\n",
       "      <td>Mon Apr 06 22:19:49 PDT 2009</td>\n",
       "      <td>NO_QUERY</td>\n",
       "      <td>scotthamilton</td>\n",
       "      <td>is upset that he can't update his Facebook by ...</td>\n",
       "      <td>upset update facebook texting might cry result...</td>\n",
       "    </tr>\n",
       "    <tr>\n",
       "      <th>1</th>\n",
       "      <td>negative</td>\n",
       "      <td>1467810917</td>\n",
       "      <td>Mon Apr 06 22:19:53 PDT 2009</td>\n",
       "      <td>NO_QUERY</td>\n",
       "      <td>mattycus</td>\n",
       "      <td>@Kenichan I dived many times for the ball. Man...</td>\n",
       "      <td>dived many time ball managed save 50 rest go b...</td>\n",
       "    </tr>\n",
       "    <tr>\n",
       "      <th>2</th>\n",
       "      <td>negative</td>\n",
       "      <td>1467811184</td>\n",
       "      <td>Mon Apr 06 22:19:57 PDT 2009</td>\n",
       "      <td>NO_QUERY</td>\n",
       "      <td>ElleCTF</td>\n",
       "      <td>my whole body feels itchy and like its on fire</td>\n",
       "      <td>whole body feel itchy like fire</td>\n",
       "    </tr>\n",
       "    <tr>\n",
       "      <th>3</th>\n",
       "      <td>negative</td>\n",
       "      <td>1467811193</td>\n",
       "      <td>Mon Apr 06 22:19:57 PDT 2009</td>\n",
       "      <td>NO_QUERY</td>\n",
       "      <td>Karoli</td>\n",
       "      <td>@nationwideclass no, it's not behaving at all....</td>\n",
       "      <td>behaving mad see</td>\n",
       "    </tr>\n",
       "    <tr>\n",
       "      <th>4</th>\n",
       "      <td>negative</td>\n",
       "      <td>1467811372</td>\n",
       "      <td>Mon Apr 06 22:20:00 PDT 2009</td>\n",
       "      <td>NO_QUERY</td>\n",
       "      <td>joy_wolf</td>\n",
       "      <td>@Kwesidei not the whole crew</td>\n",
       "      <td>whole crew</td>\n",
       "    </tr>\n",
       "  </tbody>\n",
       "</table>\n",
       "</div>"
      ],
      "text/plain": [
       "     target          id                          date      flag  \\\n",
       "0  negative  1467810672  Mon Apr 06 22:19:49 PDT 2009  NO_QUERY   \n",
       "1  negative  1467810917  Mon Apr 06 22:19:53 PDT 2009  NO_QUERY   \n",
       "2  negative  1467811184  Mon Apr 06 22:19:57 PDT 2009  NO_QUERY   \n",
       "3  negative  1467811193  Mon Apr 06 22:19:57 PDT 2009  NO_QUERY   \n",
       "4  negative  1467811372  Mon Apr 06 22:20:00 PDT 2009  NO_QUERY   \n",
       "\n",
       "            user                                               text  \\\n",
       "0  scotthamilton  is upset that he can't update his Facebook by ...   \n",
       "1       mattycus  @Kenichan I dived many times for the ball. Man...   \n",
       "2        ElleCTF    my whole body feels itchy and like its on fire    \n",
       "3         Karoli  @nationwideclass no, it's not behaving at all....   \n",
       "4       joy_wolf                      @Kwesidei not the whole crew    \n",
       "\n",
       "                                           prep_text  \n",
       "0  upset update facebook texting might cry result...  \n",
       "1  dived many time ball managed save 50 rest go b...  \n",
       "2                    whole body feel itchy like fire  \n",
       "3                                   behaving mad see  \n",
       "4                                         whole crew  "
      ]
     },
     "execution_count": 16,
     "metadata": {},
     "output_type": "execute_result"
    }
   ],
   "source": [
    "sent_df.head()"
   ]
  },
  {
   "cell_type": "markdown",
   "metadata": {},
   "source": [
    "### Train test split"
   ]
  },
  {
   "cell_type": "code",
   "execution_count": 17,
   "metadata": {},
   "outputs": [
    {
     "name": "stdout",
     "output_type": "stream",
     "text": [
      "Train size: (1279999, 7)\n",
      "Test size: (320000, 7)\n"
     ]
    }
   ],
   "source": [
    "train_sent_df, test_sent_df = train_test_split(sent_df, train_size=0.8, random_state=1)\n",
    "print(\"Train size:\", train_sent_df.shape)\n",
    "print(\"Test size:\", test_sent_df.shape)"
   ]
  },
  {
   "cell_type": "markdown",
   "metadata": {},
   "source": [
    "### Word2Vec"
   ]
  },
  {
   "cell_type": "code",
   "execution_count": 18,
   "metadata": {},
   "outputs": [],
   "source": [
    "docs = [text.split() for text in train_sent_df.prep_text] \n",
    "\n",
    "w2v_size = 256\n",
    "w2v_window = 7\n",
    "w2v_mincount = 10\n",
    "\n",
    "w2v_model = gensim.models.word2vec.Word2Vec(size=w2v_size, \n",
    "                                            window=w2v_window, \n",
    "                                            min_count=w2v_mincount, \n",
    "                                            workers=8)"
   ]
  },
  {
   "cell_type": "code",
   "execution_count": 19,
   "metadata": {},
   "outputs": [
    {
     "name": "stdout",
     "output_type": "stream",
     "text": [
      "CPU times: user 15.4 s, sys: 127 ms, total: 15.5 s\n",
      "Wall time: 15.7 s\n"
     ]
    }
   ],
   "source": [
    "%%time\n",
    "w2v_model.build_vocab(docs)"
   ]
  },
  {
   "cell_type": "code",
   "execution_count": 20,
   "metadata": {},
   "outputs": [
    {
     "name": "stdout",
     "output_type": "stream",
     "text": [
      "Vocab size 26980\n"
     ]
    }
   ],
   "source": [
    "words = w2v_model.wv.vocab.keys()\n",
    "vocab_size = len(words)\n",
    "print(\"Vocab size\", vocab_size)"
   ]
  },
  {
   "cell_type": "code",
   "execution_count": 21,
   "metadata": {},
   "outputs": [
    {
     "name": "stdout",
     "output_type": "stream",
     "text": [
      "CPU times: user 23min 19s, sys: 7.73 s, total: 23min 27s\n",
      "Wall time: 13min 4s\n"
     ]
    },
    {
     "data": {
      "text/plain": [
       "(261050169, 292973344)"
      ]
     },
     "execution_count": 21,
     "metadata": {},
     "output_type": "execute_result"
    }
   ],
   "source": [
    "%%time\n",
    "w2v_epoch = 32\n",
    "\n",
    "w2v_model.train(docs, total_examples=len(docs), epochs=w2v_epoch)"
   ]
  },
  {
   "cell_type": "code",
   "execution_count": 22,
   "metadata": {},
   "outputs": [
    {
     "data": {
      "text/plain": [
       "[('obsession', 0.3191916346549988),\n",
       " ('gibberish', 0.30810391902923584),\n",
       " ('sanitizer', 0.30769896507263184),\n",
       " ('abuse', 0.30582261085510254),\n",
       " ('creeping', 0.29745301604270935),\n",
       " ('celiac', 0.2966035008430481),\n",
       " ('coordination', 0.29379332065582275),\n",
       " ('churning', 0.29255589842796326),\n",
       " ('source', 0.29036879539489746),\n",
       " ('hygiene', 0.28796491026878357)]"
      ]
     },
     "execution_count": 22,
     "metadata": {},
     "output_type": "execute_result"
    }
   ],
   "source": [
    "w2v_model.wv.most_similar(\"epidemic\")"
   ]
  },
  {
   "cell_type": "code",
   "execution_count": 23,
   "metadata": {},
   "outputs": [
    {
     "data": {
      "text/plain": [
       "[('omelette', 0.5304896831512451),\n",
       " ('meat', 0.5195949077606201),\n",
       " ('dinner', 0.5054103136062622),\n",
       " ('meal', 0.5021267533302307),\n",
       " ('pizza', 0.4918939471244812),\n",
       " ('durian', 0.47437137365341187),\n",
       " ('takeaway', 0.473909467458725),\n",
       " ('paella', 0.46888861060142517),\n",
       " ('pringles', 0.4665232300758362),\n",
       " ('lasagna', 0.4590076506137848)]"
      ]
     },
     "execution_count": 23,
     "metadata": {},
     "output_type": "execute_result"
    }
   ],
   "source": [
    "w2v_model.wv.most_similar(\"food\")"
   ]
  },
  {
   "cell_type": "markdown",
   "metadata": {},
   "source": [
    "### Data Preparation: Tokenizing and  Sequence padding"
   ]
  },
  {
   "cell_type": "code",
   "execution_count": 24,
   "metadata": {},
   "outputs": [],
   "source": [
    "tokenizer = Tokenizer()"
   ]
  },
  {
   "cell_type": "code",
   "execution_count": 25,
   "metadata": {},
   "outputs": [],
   "source": [
    "def prep_data(text, maxlen = 256, train = True):\n",
    "        \"\"\"              \n",
    "        Encodes train data into vocabulary index for training mode, transforms each text\n",
    "        in corpus to sequence of integers and returns sequence of \n",
    "        words in form of chain of index padded to same length.\n",
    "\n",
    "        Parameters\n",
    "        -----------\n",
    "        text : str\n",
    "          Texts to be trained\n",
    "        mode : str\n",
    "          Indicates corpus purpose (train or test)\n",
    "\n",
    "        Return\n",
    "        -----------\n",
    "        numpy.array\n",
    "          pad sequences of same length\n",
    "        \"\"\"\n",
    "        \n",
    "        # fit the tokenizer on the text\n",
    "        if train:\n",
    "            tokenizer.fit_on_texts(text)\n",
    "\n",
    "            print(\"Vocabulary size\", len(tokenizer.word_index) + 1)\n",
    "        \n",
    "        # integer encode documents\n",
    "        encoded_text = tokenizer.texts_to_sequences(text)\n",
    "        #print(encoded_text)\n",
    "        print('length of encoded docs: ', len(encoded_text))\n",
    "        \n",
    "        #padding\n",
    "        padded_data = pad_sequences(encoded_text, maxlen=maxlen)\n",
    "        print('Padded data shape:', padded_data.shape)\n",
    "        return padded_data "
   ]
  },
  {
   "cell_type": "code",
   "execution_count": 26,
   "metadata": {},
   "outputs": [
    {
     "name": "stdout",
     "output_type": "stream",
     "text": [
      "Vocabulary size 233169\n",
      "length of encoded docs:  1279999\n",
      "Padded data shape: (1279999, 256)\n"
     ]
    }
   ],
   "source": [
    "X_train = prep_data(train_sent_df['prep_text'])"
   ]
  },
  {
   "cell_type": "code",
   "execution_count": 27,
   "metadata": {},
   "outputs": [
    {
     "name": "stdout",
     "output_type": "stream",
     "text": [
      "length of encoded docs:  320000\n",
      "Padded data shape: (320000, 256)\n"
     ]
    }
   ],
   "source": [
    "X_test = prep_data(test_sent_df['prep_text'], train = False)"
   ]
  },
  {
   "cell_type": "code",
   "execution_count": 28,
   "metadata": {},
   "outputs": [
    {
     "data": {
      "text/plain": [
       "array([[    0,     0,     0, ...,    30,   665,    79],\n",
       "       [    0,     0,     0, ...,  1344,  1314, 89785],\n",
       "       [    0,     0,     0, ...,    20,   145,    14],\n",
       "       ...,\n",
       "       [    0,     0,     0, ...,    28,   939,    77],\n",
       "       [    0,     0,     0, ...,     0,    34,  4222],\n",
       "       [    0,     0,     0, ...,    35,   151,    44]], dtype=int32)"
      ]
     },
     "execution_count": 28,
     "metadata": {},
     "output_type": "execute_result"
    }
   ],
   "source": [
    "X_train"
   ]
  },
  {
   "cell_type": "code",
   "execution_count": 29,
   "metadata": {},
   "outputs": [
    {
     "data": {
      "text/plain": [
       "array([[    0,     0,     0, ...,   663,    32, 54149],\n",
       "       [    0,     0,     0, ...,    41,   952,  2651],\n",
       "       [    0,     0,     0, ...,    22,   169,  7517],\n",
       "       ...,\n",
       "       [    0,     0,     0, ...,  4567,   623,   322],\n",
       "       [    0,     0,     0, ...,    12, 17605,    60],\n",
       "       [    0,     0,     0, ...,  8832,    36,    23]], dtype=int32)"
      ]
     },
     "execution_count": 29,
     "metadata": {},
     "output_type": "execute_result"
    }
   ],
   "source": [
    "X_test"
   ]
  },
  {
   "cell_type": "code",
   "execution_count": 30,
   "metadata": {},
   "outputs": [
    {
     "name": "stdout",
     "output_type": "stream",
     "text": [
      "Vocabulary Size 233169\n"
     ]
    }
   ],
   "source": [
    "vocab_size = len(tokenizer.word_index)+1\n",
    "print(\"Vocabulary Size\", vocab_size)"
   ]
  },
  {
   "cell_type": "code",
   "execution_count": 31,
   "metadata": {},
   "outputs": [
    {
     "data": {
      "text/plain": [
       "['negative', 'positive', 'neutral']"
      ]
     },
     "execution_count": 31,
     "metadata": {},
     "output_type": "execute_result"
    }
   ],
   "source": [
    "labels = train_sent_df['target'].unique().tolist()\n",
    "labels.append('neutral')\n",
    "labels"
   ]
  },
  {
   "cell_type": "markdown",
   "metadata": {},
   "source": [
    "### Label Encoding"
   ]
  },
  {
   "cell_type": "code",
   "execution_count": 32,
   "metadata": {},
   "outputs": [
    {
     "name": "stdout",
     "output_type": "stream",
     "text": [
      "Shape of y_train (1279999,)\n",
      "Shape of y_test (320000,)\n"
     ]
    }
   ],
   "source": [
    "encoder = LabelEncoder()\n",
    "encoder.fit(train_sent_df['target'].tolist())\n",
    "\n",
    "y_train = encoder.transform(train_sent_df['target'].tolist())\n",
    "y_test = encoder.transform(test_sent_df['target'].tolist())\n",
    "\n",
    "print(\"Shape of y_train\",y_train.shape)\n",
    "print(\"Shape of y_test\",y_test.shape)"
   ]
  },
  {
   "cell_type": "code",
   "execution_count": 33,
   "metadata": {},
   "outputs": [
    {
     "name": "stdout",
     "output_type": "stream",
     "text": [
      "New shape of y_train (1279999, 1)\n",
      "New shape of y_test (320000, 1)\n"
     ]
    }
   ],
   "source": [
    "y_train = y_train.reshape(-1,1)\n",
    "y_test = y_test.reshape(-1,1)\n",
    "\n",
    "print(\"New shape of y_train\",y_train.shape)\n",
    "print(\"New shape of y_test\",y_test.shape)"
   ]
  },
  {
   "cell_type": "code",
   "execution_count": 34,
   "metadata": {},
   "outputs": [
    {
     "data": {
      "text/plain": [
       "array([[0],\n",
       "       [0],\n",
       "       [1],\n",
       "       ...,\n",
       "       [0],\n",
       "       [0],\n",
       "       [0]])"
      ]
     },
     "execution_count": 34,
     "metadata": {},
     "output_type": "execute_result"
    }
   ],
   "source": [
    "y_train"
   ]
  },
  {
   "cell_type": "code",
   "execution_count": 35,
   "metadata": {},
   "outputs": [
    {
     "data": {
      "text/plain": [
       "1279999"
      ]
     },
     "execution_count": 35,
     "metadata": {},
     "output_type": "execute_result"
    }
   ],
   "source": [
    "len(y_train == 0)"
   ]
  },
  {
   "cell_type": "code",
   "execution_count": 36,
   "metadata": {},
   "outputs": [
    {
     "data": {
      "text/plain": [
       "1279999"
      ]
     },
     "execution_count": 36,
     "metadata": {},
     "output_type": "execute_result"
    }
   ],
   "source": [
    "len(y_train != 0)"
   ]
  },
  {
   "cell_type": "code",
   "execution_count": 37,
   "metadata": {},
   "outputs": [
    {
     "data": {
      "text/plain": [
       "array([[0],\n",
       "       [0],\n",
       "       [1],\n",
       "       ...,\n",
       "       [0],\n",
       "       [1],\n",
       "       [0]])"
      ]
     },
     "execution_count": 37,
     "metadata": {},
     "output_type": "execute_result"
    }
   ],
   "source": [
    "y_test"
   ]
  },
  {
   "cell_type": "code",
   "execution_count": 38,
   "metadata": {},
   "outputs": [
    {
     "data": {
      "text/plain": [
       "320000"
      ]
     },
     "execution_count": 38,
     "metadata": {},
     "output_type": "execute_result"
    }
   ],
   "source": [
    "len(y_test==0)"
   ]
  },
  {
   "cell_type": "code",
   "execution_count": 39,
   "metadata": {},
   "outputs": [
    {
     "data": {
      "text/plain": [
       "320000"
      ]
     },
     "execution_count": 39,
     "metadata": {},
     "output_type": "execute_result"
    }
   ],
   "source": [
    "len(y_test!=0)"
   ]
  },
  {
   "cell_type": "markdown",
   "metadata": {},
   "source": [
    "### Creating Embedding layer"
   ]
  },
  {
   "cell_type": "code",
   "execution_count": 40,
   "metadata": {},
   "outputs": [
    {
     "name": "stdout",
     "output_type": "stream",
     "text": [
      "(233169, 256)\n"
     ]
    }
   ],
   "source": [
    "def embedding(vocab_size, w2v_size):\n",
    "    embedding_matrix = np.zeros((vocab_size, w2v_size))\n",
    "    for word, integer in tokenizer.word_index.items():\n",
    "        if word in w2v_model.wv:\n",
    "            embedding_matrix[integer] = w2v_model.wv[word]\n",
    "    print(embedding_matrix.shape)\n",
    "    return embedding_matrix\n",
    "\n",
    "embedding_matrix = embedding(vocab_size, w2v_size)"
   ]
  },
  {
   "cell_type": "code",
   "execution_count": 41,
   "metadata": {},
   "outputs": [
    {
     "data": {
      "text/plain": [
       "array([[ 0.        ,  0.        ,  0.        , ...,  0.        ,\n",
       "         0.        ,  0.        ],\n",
       "       [ 1.42980957,  0.16035448,  0.24629734, ...,  0.60292244,\n",
       "         1.2850883 , -0.87935442],\n",
       "       [-0.58796823, -0.66481346, -0.23430684, ...,  0.68338937,\n",
       "         0.0647549 , -0.12996703],\n",
       "       ...,\n",
       "       [ 0.        ,  0.        ,  0.        , ...,  0.        ,\n",
       "         0.        ,  0.        ],\n",
       "       [ 0.        ,  0.        ,  0.        , ...,  0.        ,\n",
       "         0.        ,  0.        ],\n",
       "       [ 0.        ,  0.        ,  0.        , ...,  0.        ,\n",
       "         0.        ,  0.        ]])"
      ]
     },
     "execution_count": 41,
     "metadata": {},
     "output_type": "execute_result"
    }
   ],
   "source": [
    "embedding_matrix"
   ]
  },
  {
   "cell_type": "markdown",
   "metadata": {},
   "source": [
    "### Building Models"
   ]
  },
  {
   "cell_type": "code",
   "execution_count": 42,
   "metadata": {},
   "outputs": [],
   "source": [
    "def build_model(vocab_size, w2v_size, input_length = 256, weights=[embedding_matrix], dropout_amount=0.5):\n",
    "        \"\"\"\n",
    "        Given layer_size and dropout_amount, build an LSTM network\n",
    "        using Keras and tensorflow and print summary of the model. \n",
    "\n",
    "        Parameters\n",
    "        -----------\n",
    "        layer_size : int\n",
    "          The number of units to be passed in the LSTM layer\n",
    "        dropout_amount : float\n",
    "          the dropout amount to be passed in the Dropout layer. \n",
    "\n",
    "        Return\n",
    "        -----------\n",
    "        None\n",
    "          print the summary of the model \n",
    "        \"\"\"      \n",
    "        model = Sequential()\n",
    "\n",
    "        model.add(Embedding(vocab_size, w2v_size, weights = weights, input_length=input_length, trainable=False))\n",
    "\n",
    "        model.add(LSTM(units = 256, dropout=dropout_amount, \n",
    "                       return_sequences=True, \n",
    "                       recurrent_dropout =  dropout_amount))\n",
    "        \n",
    "        model.add(GlobalMaxPool1D())\n",
    "        model.add(Dropout(dropout_amount))\n",
    "#         model.add(Dense(20000, activation=\"relu\"))\n",
    "#         model.add(Dropout(dropout_amount))\n",
    "        model.add(Dense(1, activation='sigmoid'))\n",
    "       \n",
    "        model.compile(loss='binary_crossentropy',\n",
    "              optimizer='adam',\n",
    "              metrics=['accuracy'])\n",
    "        print(model.summary())\n",
    "        return model\n",
    "    \n"
   ]
  },
  {
   "cell_type": "code",
   "execution_count": 43,
   "metadata": {},
   "outputs": [
    {
     "name": "stdout",
     "output_type": "stream",
     "text": [
      "Model: \"sequential_1\"\n",
      "_________________________________________________________________\n",
      "Layer (type)                 Output Shape              Param #   \n",
      "=================================================================\n",
      "embedding_1 (Embedding)      (None, 256, 256)          59691264  \n",
      "_________________________________________________________________\n",
      "lstm_1 (LSTM)                (None, 256, 256)          525312    \n",
      "_________________________________________________________________\n",
      "global_max_pooling1d_1 (Glob (None, 256)               0         \n",
      "_________________________________________________________________\n",
      "dropout_1 (Dropout)          (None, 256)               0         \n",
      "_________________________________________________________________\n",
      "dense_1 (Dense)              (None, 1)                 257       \n",
      "=================================================================\n",
      "Total params: 60,216,833\n",
      "Trainable params: 525,569\n",
      "Non-trainable params: 59,691,264\n",
      "_________________________________________________________________\n",
      "None\n"
     ]
    }
   ],
   "source": [
    "model = build_model(vocab_size, w2v_size, input_length = 256, weights=[embedding_matrix], dropout_amount=0.5)"
   ]
  },
  {
   "cell_type": "code",
   "execution_count": 44,
   "metadata": {},
   "outputs": [],
   "source": [
    "callbacks = [ReduceLROnPlateau(monitor='val_loss', patience=5, cooldown=0),\n",
    "              EarlyStopping(monitor='val_accuracy', min_delta=1e-4, patience=5), \n",
    "             ModelCheckpoint('best_model.hdf5', monitor='val_accuracy', \n",
    "                             verbose=0, save_best_only=True, save_weights_only=False, mode='auto', period=1)]"
   ]
  },
  {
   "cell_type": "code",
   "execution_count": 45,
   "metadata": {},
   "outputs": [],
   "source": [
    "def fit(model, X_train, y_train, batch_size = 1024, epochs = 7):\n",
    "        \"\"\"        \n",
    "        Given the parameters train a deep learning model and save and return it.  \n",
    "        \n",
    "        Parameters\n",
    "        -------------\n",
    "        X_train : (list) \n",
    "          the X values of the train split \n",
    "        y_train : (list) \n",
    "          the y values of the train split \n",
    "        batch_size : (int) \n",
    "          the batch_size for the training\n",
    "        epochs : (int) \n",
    "          the number of epochs for training \n",
    "        save_path : (str) the path to save the model\n",
    "        \n",
    "        Return\n",
    "        -------------\n",
    "          the trained model\n",
    "        \"\"\"      \n",
    "        history = model.fit(X_train, y_train, \n",
    "                  batch_size=batch_size, epochs=epochs,\n",
    "                  validation_split=0.1, callbacks=callbacks)\n",
    "        model.save('w2v_model')\n",
    "        return history"
   ]
  },
  {
   "cell_type": "code",
   "execution_count": 46,
   "metadata": {},
   "outputs": [
    {
     "name": "stdout",
     "output_type": "stream",
     "text": [
      "Train on 1151999 samples, validate on 128000 samples\n",
      "Epoch 1/7\n",
      "1151999/1151999 [==============================] - 333s 289us/step - loss: 0.5138 - accuracy: 0.7453 - val_loss: 0.4692 - val_accuracy: 0.7746\n",
      "Epoch 2/7\n",
      "1151999/1151999 [==============================] - 334s 290us/step - loss: 0.4933 - accuracy: 0.7597 - val_loss: 0.4615 - val_accuracy: 0.7794\n",
      "Epoch 3/7\n",
      "1151999/1151999 [==============================] - 334s 290us/step - loss: 0.4872 - accuracy: 0.7639 - val_loss: 0.4587 - val_accuracy: 0.7811\n",
      "Epoch 4/7\n",
      "1151999/1151999 [==============================] - 331s 288us/step - loss: 0.4834 - accuracy: 0.7663 - val_loss: 0.4563 - val_accuracy: 0.7838\n",
      "Epoch 5/7\n",
      "1151999/1151999 [==============================] - 332s 288us/step - loss: 0.4809 - accuracy: 0.7680 - val_loss: 0.4541 - val_accuracy: 0.7839\n",
      "Epoch 6/7\n",
      "1151999/1151999 [==============================] - 330s 286us/step - loss: 0.4795 - accuracy: 0.7686 - val_loss: 0.4534 - val_accuracy: 0.7848\n",
      "Epoch 7/7\n",
      "1151999/1151999 [==============================] - 330s 286us/step - loss: 0.4782 - accuracy: 0.7694 - val_loss: 0.4517 - val_accuracy: 0.7862\n",
      "CPU times: user 52min 54s, sys: 3min 10s, total: 56min 4s\n",
      "Wall time: 38min 49s\n"
     ]
    }
   ],
   "source": [
    "%%time\n",
    "my_history = fit(model, X_train, y_train)"
   ]
  },
  {
   "cell_type": "code",
   "execution_count": 48,
   "metadata": {},
   "outputs": [],
   "source": [
    "model.save('w2v_model3')"
   ]
  },
  {
   "cell_type": "code",
   "execution_count": 49,
   "metadata": {},
   "outputs": [
    {
     "name": "stdout",
     "output_type": "stream",
     "text": [
      "320000/320000 [==============================] - 32s 98us/step\n",
      "Accuracy: 0.786553144454956\n",
      "Loss: 0.4492486498832703\n",
      "CPU times: user 22 s, sys: 4.45 s, total: 26.5 s\n",
      "Wall time: 31.5 s\n"
     ]
    }
   ],
   "source": [
    "%%time\n",
    "score = model.evaluate(X_test, y_test, batch_size=1024)\n",
    "\n",
    "print(\"Accuracy:\",score[1])\n",
    "print(\"Loss:\",score[0])"
   ]
  },
  {
   "cell_type": "code",
   "execution_count": 56,
   "metadata": {},
   "outputs": [],
   "source": [
    "accuracy = my_history.history['accuracy']\n",
    "val_accuracy = my_history.history['val_accuracy']\n",
    "loss = my_history.history['loss']\n",
    "val_loss = my_history.history['val_loss']\n",
    " \n",
    "epochs = range(len(accuracy))\n"
   ]
  },
  {
   "cell_type": "code",
   "execution_count": 143,
   "metadata": {},
   "outputs": [
    {
     "data": {
      "image/png": "[encoded data removed]",
      "text/plain": [
       "<Figure size 432x288 with 1 Axes>"
      ]
     },
     "metadata": {
      "needs_background": "light"
     },
     "output_type": "display_data"
    },
    {
     "data": {
      "image/png": "[encoded data removed]",
      "text/plain": [
       "<Figure size 432x288 with 1 Axes>"
      ]
     },
     "metadata": {
      "needs_background": "light"
     },
     "output_type": "display_data"
    }
   ],
   "source": [
    "plt.plot(epochs, accuracy, 'b', label='Train')\n",
    "plt.plot(epochs, val_accuracy, 'r', label='Validation')\n",
    "plt.title('Training and validation accuracy')\n",
    "plt.ylabel('accuracy')\n",
    "plt.xlabel('epoch')\n",
    "plt.legend()\n",
    " \n",
    "plt.figure()\n",
    " \n",
    "plt.plot(epochs, loss, 'b', label='Training')\n",
    "plt.plot(epochs, val_loss, 'r', label='Validation')\n",
    "plt.title('Training and validation loss')\n",
    "plt.ylabel('loss')\n",
    "plt.xlabel('epoch')\n",
    "plt.legend()\n",
    " \n",
    "plt.show()"
   ]
  },
  {
   "cell_type": "code",
   "execution_count": 60,
   "metadata": {},
   "outputs": [],
   "source": [
    "# Sentiment threshold idea and prediction culled from https://github.com/y33-j3T/Twitter-Sentiment-Analysis-Flask-App/blob/master/utils.py\n",
    "\n",
    "sentiment_score_threshold = (0.4, 0.7)\n",
    "\n",
    "def sentiments(score, neutral_sentiment=True):\n",
    "    if neutral_sentiment:        \n",
    "        if score < sentiment_score_threshold[0]:\n",
    "            sentiment = 'negative'\n",
    "        elif score >= sentiment_score_threshold[1]:\n",
    "            sentiment = 'positive'\n",
    "        else:\n",
    "            sentiment = 'neutral'\n",
    "\n",
    "        return sentiment\n",
    "    else:\n",
    "        return 'negative' if score < 0.5 else 'positive'"
   ]
  },
  {
   "cell_type": "code",
   "execution_count": 84,
   "metadata": {},
   "outputs": [],
   "source": [
    "def predict(model, tweets, neutral_sentiment=True, sequence_length=256):\n",
    "    \n",
    "    # Preprocess data\n",
    "    tweets = [preprocess(t) for t in tweets]\n",
    "    X = prep_data(tweets, train = False)\n",
    "    # Prediction of new data\n",
    "    score = model.predict(X, batch_size=1024)\n",
    "    # sentiments\n",
    "    sentiment_list = []\n",
    "    for s in score:\n",
    "        sentiment = sentiments(s, neutral_sentiment=neutral_sentiment)\n",
    "        sentiment_list.append(sentiment)\n",
    "\n",
    "    return {\"sentiment\": sentiment, \"score\": float(score)} "
   ]
  },
  {
   "cell_type": "code",
   "execution_count": 85,
   "metadata": {},
   "outputs": [
    {
     "name": "stdout",
     "output_type": "stream",
     "text": [
      "length of encoded docs:  1\n",
      "Padded data shape: (1, 256)\n"
     ]
    },
    {
     "data": {
      "text/plain": [
       "{'sentiment': 'positive', 'score': 0.9513883590698242}"
      ]
     },
     "execution_count": 85,
     "metadata": {},
     "output_type": "execute_result"
    }
   ],
   "source": [
    "predict(model, tweets = [\"You are blessed\"])"
   ]
  },
  {
   "cell_type": "code",
   "execution_count": 89,
   "metadata": {},
   "outputs": [
    {
     "name": "stdout",
     "output_type": "stream",
     "text": [
      "length of encoded docs:  1\n",
      "Padded data shape: (1, 256)\n"
     ]
    },
    {
     "data": {
      "text/plain": [
       "{'sentiment': 'negative', 'score': 0.03280532732605934}"
      ]
     },
     "execution_count": 89,
     "metadata": {},
     "output_type": "execute_result"
    }
   ],
   "source": [
    "predict(model, tweets = [\"I hate hunting\"])"
   ]
  },
  {
   "cell_type": "markdown",
   "metadata": {},
   "source": [
    "### Classification Report"
   ]
  },
  {
   "cell_type": "code",
   "execution_count": 92,
   "metadata": {},
   "outputs": [
    {
     "name": "stdout",
     "output_type": "stream",
     "text": [
      "320000/320000 [==============================] - 31s 98us/step\n"
     ]
    }
   ],
   "source": [
    "scores = model.predict(X_test, verbose=1, batch_size=1024)\n",
    "prediction = [sentiments(score, neutral_sentiment=False) for score in scores]\n"
   ]
  },
  {
   "cell_type": "code",
   "execution_count": 93,
   "metadata": {},
   "outputs": [
    {
     "name": "stdout",
     "output_type": "stream",
     "text": [
      "              precision    recall  f1-score   support\n",
      "\n",
      "    negative       0.80      0.76      0.78    160131\n",
      "    positive       0.77      0.81      0.79    159869\n",
      "\n",
      "    accuracy                           0.79    320000\n",
      "   macro avg       0.79      0.79      0.79    320000\n",
      "weighted avg       0.79      0.79      0.79    320000\n",
      "\n"
     ]
    }
   ],
   "source": [
    "y_test_original = list(test_sent_df.target)\n",
    "print(classification_report(y_test_original, prediction))"
   ]
  },
  {
   "cell_type": "code",
   "execution_count": 94,
   "metadata": {},
   "outputs": [
    {
     "data": {
      "text/plain": [
       "0.786553125"
      ]
     },
     "execution_count": 94,
     "metadata": {},
     "output_type": "execute_result"
    }
   ],
   "source": [
    "accuracy_score(y_test_original, prediction)"
   ]
  },
  {
   "cell_type": "markdown",
   "metadata": {},
   "source": [
    "## Predicting Sentiment on Covid 19 Tweets\n",
    "\n",
    "### Fetching tweets"
   ]
  },
  {
   "cell_type": "code",
   "execution_count": null,
   "metadata": {},
   "outputs": [],
   "source": [
    "def fetch_tweets(query, start_date, end_date, limit = 10000, language = \"English\"):\n",
    "    \"\"\"\n",
    "    start_date: date in form year,month,day\n",
    "    \"\"\"\n",
    "\n",
    "    tweets = query_tweets(query, begindate = start_date, enddate = end_date, limit = limit, lang = language)\n",
    "    df = pd.DataFrame(t.__dict__ for t in tweets)\n",
    "    return df"
   ]
  },
  {
   "cell_type": "code",
   "execution_count": null,
   "metadata": {},
   "outputs": [],
   "source": [
    "start_date2 = dt.date(2020,2,1)\n",
    "end_date2 = dt.date(2020,2,28)\n",
    "\n",
    "start_date3 = dt.date(2020,3,1)\n",
    "end_date3 = dt.date(2020,3,31)\n",
    "\n",
    "start_date4 = dt.date(2020,4,1)\n",
    "end_date4 = dt.date(2020,5,1)\n",
    "\n",
    "limit = 25000\n",
    "query = \"coronavirus OR covid OR covid19 OR covid-19 OR corona virus OR #COVID19, OR #CoronavirusOutbreak\" "
   ]
  },
  {
   "cell_type": "code",
   "execution_count": null,
   "metadata": {},
   "outputs": [],
   "source": [
    "tweets2 = fetch_tweets(query, start_date2, end_date2, limit = limit, language = 'english')"
   ]
  },
  {
   "cell_type": "code",
   "execution_count": null,
   "metadata": {},
   "outputs": [],
   "source": [
    "tweets2.shape"
   ]
  },
  {
   "cell_type": "code",
   "execution_count": null,
   "metadata": {},
   "outputs": [],
   "source": [
    "tweets2.to_csv (r'./data/tweets2.csv', index = False, header=True)"
   ]
  },
  {
   "cell_type": "code",
   "execution_count": null,
   "metadata": {},
   "outputs": [],
   "source": [
    "tweets3 = fetch_tweets(query, start_date3, end_date3, limit = limit, language = 'english')"
   ]
  },
  {
   "cell_type": "code",
   "execution_count": null,
   "metadata": {},
   "outputs": [],
   "source": [
    "tweets3.shape"
   ]
  },
  {
   "cell_type": "code",
   "execution_count": null,
   "metadata": {},
   "outputs": [],
   "source": [
    "tweets3.to_csv (r'./data/tweets3.csv', index = False, header=True)"
   ]
  },
  {
   "cell_type": "code",
   "execution_count": null,
   "metadata": {},
   "outputs": [],
   "source": [
    "tweets4 = fetch_tweets(query, start_date4, end_date4, limit = limit, language = 'english')"
   ]
  },
  {
   "cell_type": "code",
   "execution_count": null,
   "metadata": {},
   "outputs": [],
   "source": [
    "tweets4.to_csv (r'./data/tweets4.csv', index = False, header=True)"
   ]
  },
  {
   "cell_type": "code",
   "execution_count": null,
   "metadata": {},
   "outputs": [],
   "source": [
    "tweets4.shape"
   ]
  },
  {
   "cell_type": "code",
   "execution_count": null,
   "metadata": {},
   "outputs": [],
   "source": [
    "tweets = pd.concat([tweets2, tweets3, tweets4])\n",
    "tweets.to_csv (r'./data/tweets.csv', index = False, header=True)"
   ]
  },
  {
   "cell_type": "code",
   "execution_count": 47,
   "metadata": {},
   "outputs": [
    {
     "data": {
      "text/html": [
       "<div>\n",
       "<style scoped>\n",
       "    .dataframe tbody tr th:only-of-type {\n",
       "        vertical-align: middle;\n",
       "    }\n",
       "\n",
       "    .dataframe tbody tr th {\n",
       "        vertical-align: top;\n",
       "    }\n",
       "\n",
       "    .dataframe thead th {\n",
       "        text-align: right;\n",
       "    }\n",
       "</style>\n",
       "<table border=\"1\" class=\"dataframe\">\n",
       "  <thead>\n",
       "    <tr style=\"text-align: right;\">\n",
       "      <th></th>\n",
       "      <th>screen_name</th>\n",
       "      <th>username</th>\n",
       "      <th>user_id</th>\n",
       "      <th>tweet_id</th>\n",
       "      <th>tweet_url</th>\n",
       "      <th>timestamp</th>\n",
       "      <th>timestamp_epochs</th>\n",
       "      <th>text</th>\n",
       "      <th>text_html</th>\n",
       "      <th>links</th>\n",
       "      <th>...</th>\n",
       "      <th>has_media</th>\n",
       "      <th>img_urls</th>\n",
       "      <th>video_url</th>\n",
       "      <th>likes</th>\n",
       "      <th>retweets</th>\n",
       "      <th>replies</th>\n",
       "      <th>is_replied</th>\n",
       "      <th>is_reply_to</th>\n",
       "      <th>parent_tweet_id</th>\n",
       "      <th>reply_to_users</th>\n",
       "    </tr>\n",
       "  </thead>\n",
       "  <tbody>\n",
       "    <tr>\n",
       "      <th>0</th>\n",
       "      <td>geziel_goes</td>\n",
       "      <td>Dr. Geziel Goes🇧🇷🇵🇹</td>\n",
       "      <td>4867434249</td>\n",
       "      <td>1233180006743969792</td>\n",
       "      <td>/geziel_goes/status/1233180006743969792</td>\n",
       "      <td>2020-02-27 23:59:59</td>\n",
       "      <td>1582847999</td>\n",
       "      <td>Se o Coronavirus esta derrubando a bolsa no Br...</td>\n",
       "      <td>&lt;p class=\"TweetTextSize js-tweet-text tweet-te...</td>\n",
       "      <td>[]</td>\n",
       "      <td>...</td>\n",
       "      <td>False</td>\n",
       "      <td>[]</td>\n",
       "      <td>NaN</td>\n",
       "      <td>0</td>\n",
       "      <td>0</td>\n",
       "      <td>0</td>\n",
       "      <td>False</td>\n",
       "      <td>False</td>\n",
       "      <td>NaN</td>\n",
       "      <td>[]</td>\n",
       "    </tr>\n",
       "    <tr>\n",
       "      <th>1</th>\n",
       "      <td>Covid_19Time</td>\n",
       "      <td>COVID-19</td>\n",
       "      <td>1146021318082609152</td>\n",
       "      <td>1233180006655909888</td>\n",
       "      <td>/Covid_19Time/status/1233180006655909888</td>\n",
       "      <td>2020-02-27 23:59:59</td>\n",
       "      <td>1582847999</td>\n",
       "      <td>#Coronavirus #COVID19 \\n\\nIt’s going global  @...</td>\n",
       "      <td>&lt;p class=\"TweetTextSize js-tweet-text tweet-te...</td>\n",
       "      <td>['https://twitter.com/Covid_19Time/status/1227...</td>\n",
       "      <td>...</td>\n",
       "      <td>True</td>\n",
       "      <td>['https://pbs.twimg.com/media/ER0irN5U0AADXHK....</td>\n",
       "      <td>NaN</td>\n",
       "      <td>26</td>\n",
       "      <td>8</td>\n",
       "      <td>2</td>\n",
       "      <td>True</td>\n",
       "      <td>False</td>\n",
       "      <td>NaN</td>\n",
       "      <td>[]</td>\n",
       "    </tr>\n",
       "    <tr>\n",
       "      <th>2</th>\n",
       "      <td>29Toninho</td>\n",
       "      <td>Toninho</td>\n",
       "      <td>585940381</td>\n",
       "      <td>1233180004030152704</td>\n",
       "      <td>/29Toninho/status/1233180004030152704</td>\n",
       "      <td>2020-02-27 23:59:58</td>\n",
       "      <td>1582847998</td>\n",
       "      <td>Bien por esa acción. Es difícil navegar por el...</td>\n",
       "      <td>&lt;p class=\"TweetTextSize js-tweet-text tweet-te...</td>\n",
       "      <td>[]</td>\n",
       "      <td>...</td>\n",
       "      <td>False</td>\n",
       "      <td>[]</td>\n",
       "      <td>NaN</td>\n",
       "      <td>0</td>\n",
       "      <td>0</td>\n",
       "      <td>0</td>\n",
       "      <td>False</td>\n",
       "      <td>True</td>\n",
       "      <td>1.233054e+18</td>\n",
       "      <td>[{'screen_name': 'Anaro74', 'user_id': '104697...</td>\n",
       "    </tr>\n",
       "    <tr>\n",
       "      <th>3</th>\n",
       "      <td>BrendynMorgan</td>\n",
       "      <td>b</td>\n",
       "      <td>263311303</td>\n",
       "      <td>1233180001496969222</td>\n",
       "      <td>/BrendynMorgan/status/1233180001496969222</td>\n",
       "      <td>2020-02-27 23:59:58</td>\n",
       "      <td>1582847998</td>\n",
       "      <td>This damn Corona virus knocked my stocks all t...</td>\n",
       "      <td>&lt;p class=\"TweetTextSize js-tweet-text tweet-te...</td>\n",
       "      <td>[]</td>\n",
       "      <td>...</td>\n",
       "      <td>False</td>\n",
       "      <td>[]</td>\n",
       "      <td>NaN</td>\n",
       "      <td>1</td>\n",
       "      <td>0</td>\n",
       "      <td>0</td>\n",
       "      <td>False</td>\n",
       "      <td>False</td>\n",
       "      <td>NaN</td>\n",
       "      <td>[]</td>\n",
       "    </tr>\n",
       "    <tr>\n",
       "      <th>4</th>\n",
       "      <td>BlindedSteer</td>\n",
       "      <td>Dusty Arth</td>\n",
       "      <td>460892027</td>\n",
       "      <td>1233179999605145600</td>\n",
       "      <td>/BlindedSteer/status/1233179999605145600</td>\n",
       "      <td>2020-02-27 23:59:57</td>\n",
       "      <td>1582847997</td>\n",
       "      <td>@billburr So how many people are you secretly,...</td>\n",
       "      <td>&lt;p class=\"TweetTextSize js-tweet-text tweet-te...</td>\n",
       "      <td>[]</td>\n",
       "      <td>...</td>\n",
       "      <td>False</td>\n",
       "      <td>[]</td>\n",
       "      <td>NaN</td>\n",
       "      <td>0</td>\n",
       "      <td>0</td>\n",
       "      <td>0</td>\n",
       "      <td>False</td>\n",
       "      <td>False</td>\n",
       "      <td>NaN</td>\n",
       "      <td>[]</td>\n",
       "    </tr>\n",
       "  </tbody>\n",
       "</table>\n",
       "<p>5 rows × 21 columns</p>\n",
       "</div>"
      ],
      "text/plain": [
       "     screen_name             username              user_id  \\\n",
       "0    geziel_goes  Dr. Geziel Goes🇧🇷🇵🇹           4867434249   \n",
       "1   Covid_19Time             COVID-19  1146021318082609152   \n",
       "2      29Toninho              Toninho            585940381   \n",
       "3  BrendynMorgan                    b            263311303   \n",
       "4   BlindedSteer           Dusty Arth            460892027   \n",
       "\n",
       "              tweet_id                                  tweet_url  \\\n",
       "0  1233180006743969792    /geziel_goes/status/1233180006743969792   \n",
       "1  1233180006655909888   /Covid_19Time/status/1233180006655909888   \n",
       "2  1233180004030152704      /29Toninho/status/1233180004030152704   \n",
       "3  1233180001496969222  /BrendynMorgan/status/1233180001496969222   \n",
       "4  1233179999605145600   /BlindedSteer/status/1233179999605145600   \n",
       "\n",
       "             timestamp  timestamp_epochs  \\\n",
       "0  2020-02-27 23:59:59        1582847999   \n",
       "1  2020-02-27 23:59:59        1582847999   \n",
       "2  2020-02-27 23:59:58        1582847998   \n",
       "3  2020-02-27 23:59:58        1582847998   \n",
       "4  2020-02-27 23:59:57        1582847997   \n",
       "\n",
       "                                                text  \\\n",
       "0  Se o Coronavirus esta derrubando a bolsa no Br...   \n",
       "1  #Coronavirus #COVID19 \\n\\nIt’s going global  @...   \n",
       "2  Bien por esa acción. Es difícil navegar por el...   \n",
       "3  This damn Corona virus knocked my stocks all t...   \n",
       "4  @billburr So how many people are you secretly,...   \n",
       "\n",
       "                                           text_html  \\\n",
       "0  <p class=\"TweetTextSize js-tweet-text tweet-te...   \n",
       "1  <p class=\"TweetTextSize js-tweet-text tweet-te...   \n",
       "2  <p class=\"TweetTextSize js-tweet-text tweet-te...   \n",
       "3  <p class=\"TweetTextSize js-tweet-text tweet-te...   \n",
       "4  <p class=\"TweetTextSize js-tweet-text tweet-te...   \n",
       "\n",
       "                                               links  ... has_media  \\\n",
       "0                                                 []  ...     False   \n",
       "1  ['https://twitter.com/Covid_19Time/status/1227...  ...      True   \n",
       "2                                                 []  ...     False   \n",
       "3                                                 []  ...     False   \n",
       "4                                                 []  ...     False   \n",
       "\n",
       "                                            img_urls video_url  likes  \\\n",
       "0                                                 []       NaN      0   \n",
       "1  ['https://pbs.twimg.com/media/ER0irN5U0AADXHK....       NaN     26   \n",
       "2                                                 []       NaN      0   \n",
       "3                                                 []       NaN      1   \n",
       "4                                                 []       NaN      0   \n",
       "\n",
       "   retweets  replies  is_replied  is_reply_to  parent_tweet_id  \\\n",
       "0         0        0       False        False              NaN   \n",
       "1         8        2        True        False              NaN   \n",
       "2         0        0       False         True     1.233054e+18   \n",
       "3         0        0       False        False              NaN   \n",
       "4         0        0       False        False              NaN   \n",
       "\n",
       "                                      reply_to_users  \n",
       "0                                                 []  \n",
       "1                                                 []  \n",
       "2  [{'screen_name': 'Anaro74', 'user_id': '104697...  \n",
       "3                                                 []  \n",
       "4                                                 []  \n",
       "\n",
       "[5 rows x 21 columns]"
      ]
     },
     "execution_count": 47,
     "metadata": {},
     "output_type": "execute_result"
    }
   ],
   "source": [
    "tweets.head()"
   ]
  },
  {
   "cell_type": "code",
   "execution_count": 96,
   "metadata": {},
   "outputs": [],
   "source": [
    "#Extract language of each tweet \n",
    "tweets['text'] = tweets['text'].apply(lambda x:str(x)) #remove floats\n",
    "\n",
    "tweets['language'] = tweets['text'].apply(cld3.get_language).map(lambda x: x[0]) #Get the language of each tweet"
   ]
  },
  {
   "cell_type": "code",
   "execution_count": 98,
   "metadata": {},
   "outputs": [
    {
     "data": {
      "text/html": [
       "<div>\n",
       "<style scoped>\n",
       "    .dataframe tbody tr th:only-of-type {\n",
       "        vertical-align: middle;\n",
       "    }\n",
       "\n",
       "    .dataframe tbody tr th {\n",
       "        vertical-align: top;\n",
       "    }\n",
       "\n",
       "    .dataframe thead th {\n",
       "        text-align: right;\n",
       "    }\n",
       "</style>\n",
       "<table border=\"1\" class=\"dataframe\">\n",
       "  <thead>\n",
       "    <tr style=\"text-align: right;\">\n",
       "      <th></th>\n",
       "      <th>text</th>\n",
       "      <th>language</th>\n",
       "    </tr>\n",
       "  </thead>\n",
       "  <tbody>\n",
       "    <tr>\n",
       "      <th>0</th>\n",
       "      <td>Se o Coronavirus esta derrubando a bolsa no Br...</td>\n",
       "      <td>pt</td>\n",
       "    </tr>\n",
       "    <tr>\n",
       "      <th>1</th>\n",
       "      <td>#Coronavirus #COVID19 \\n\\nIt’s going global  @...</td>\n",
       "      <td>no</td>\n",
       "    </tr>\n",
       "    <tr>\n",
       "      <th>2</th>\n",
       "      <td>Bien por esa acción. Es difícil navegar por el...</td>\n",
       "      <td>es</td>\n",
       "    </tr>\n",
       "    <tr>\n",
       "      <th>3</th>\n",
       "      <td>This damn Corona virus knocked my stocks all t...</td>\n",
       "      <td>mg</td>\n",
       "    </tr>\n",
       "    <tr>\n",
       "      <th>4</th>\n",
       "      <td>@billburr So how many people are you secretly,...</td>\n",
       "      <td>en</td>\n",
       "    </tr>\n",
       "  </tbody>\n",
       "</table>\n",
       "</div>"
      ],
      "text/plain": [
       "                                                text language\n",
       "0  Se o Coronavirus esta derrubando a bolsa no Br...       pt\n",
       "1  #Coronavirus #COVID19 \\n\\nIt’s going global  @...       no\n",
       "2  Bien por esa acción. Es difícil navegar por el...       es\n",
       "3  This damn Corona virus knocked my stocks all t...       mg\n",
       "4  @billburr So how many people are you secretly,...       en"
      ]
     },
     "execution_count": 98,
     "metadata": {},
     "output_type": "execute_result"
    }
   ],
   "source": [
    "tweets = tweets[['text', 'language']]\n",
    "tweets.head()"
   ]
  },
  {
   "cell_type": "markdown",
   "metadata": {},
   "source": [
    "## Obtain English tweets of interest"
   ]
  },
  {
   "cell_type": "code",
   "execution_count": 99,
   "metadata": {},
   "outputs": [
    {
     "data": {
      "text/html": [
       "<div>\n",
       "<style scoped>\n",
       "    .dataframe tbody tr th:only-of-type {\n",
       "        vertical-align: middle;\n",
       "    }\n",
       "\n",
       "    .dataframe tbody tr th {\n",
       "        vertical-align: top;\n",
       "    }\n",
       "\n",
       "    .dataframe thead th {\n",
       "        text-align: right;\n",
       "    }\n",
       "</style>\n",
       "<table border=\"1\" class=\"dataframe\">\n",
       "  <thead>\n",
       "    <tr style=\"text-align: right;\">\n",
       "      <th></th>\n",
       "      <th>text</th>\n",
       "      <th>language</th>\n",
       "    </tr>\n",
       "  </thead>\n",
       "  <tbody>\n",
       "    <tr>\n",
       "      <th>4</th>\n",
       "      <td>@billburr So how many people are you secretly,...</td>\n",
       "      <td>en</td>\n",
       "    </tr>\n",
       "    <tr>\n",
       "      <th>5</th>\n",
       "      <td>What a smart thinking! While other countries s...</td>\n",
       "      <td>en</td>\n",
       "    </tr>\n",
       "    <tr>\n",
       "      <th>6</th>\n",
       "      <td>Live!! Pope Sick With Corona Virus, 8 Chan Fou...</td>\n",
       "      <td>en</td>\n",
       "    </tr>\n",
       "    <tr>\n",
       "      <th>9</th>\n",
       "      <td>PM says #coronavirus is 10x more severe than f...</td>\n",
       "      <td>en</td>\n",
       "    </tr>\n",
       "    <tr>\n",
       "      <th>11</th>\n",
       "      <td>I'm obviously not a seasoned economist but my ...</td>\n",
       "      <td>en</td>\n",
       "    </tr>\n",
       "    <tr>\n",
       "      <th>...</th>\n",
       "      <td>...</td>\n",
       "      <td>...</td>\n",
       "    </tr>\n",
       "    <tr>\n",
       "      <th>41248</th>\n",
       "      <td>I’ll only ever hear corona virus in Cardi B’s ...</td>\n",
       "      <td>en</td>\n",
       "    </tr>\n",
       "    <tr>\n",
       "      <th>41249</th>\n",
       "      <td>There it is folks, 18 months of lockdown minim...</td>\n",
       "      <td>en</td>\n",
       "    </tr>\n",
       "    <tr>\n",
       "      <th>41250</th>\n",
       "      <td>Do us a favor @realDonaldTrump just STFU when ...</td>\n",
       "      <td>en</td>\n",
       "    </tr>\n",
       "    <tr>\n",
       "      <th>41251</th>\n",
       "      <td>#ThankYOUgina !!!\\nWhat an amazing woman! Amer...</td>\n",
       "      <td>en</td>\n",
       "    </tr>\n",
       "    <tr>\n",
       "      <th>41252</th>\n",
       "      <td>@GovSisolak The only thing you would be gratef...</td>\n",
       "      <td>en</td>\n",
       "    </tr>\n",
       "  </tbody>\n",
       "</table>\n",
       "<p>20246 rows × 2 columns</p>\n",
       "</div>"
      ],
      "text/plain": [
       "                                                    text language\n",
       "4      @billburr So how many people are you secretly,...       en\n",
       "5      What a smart thinking! While other countries s...       en\n",
       "6      Live!! Pope Sick With Corona Virus, 8 Chan Fou...       en\n",
       "9      PM says #coronavirus is 10x more severe than f...       en\n",
       "11     I'm obviously not a seasoned economist but my ...       en\n",
       "...                                                  ...      ...\n",
       "41248  I’ll only ever hear corona virus in Cardi B’s ...       en\n",
       "41249  There it is folks, 18 months of lockdown minim...       en\n",
       "41250  Do us a favor @realDonaldTrump just STFU when ...       en\n",
       "41251  #ThankYOUgina !!!\\nWhat an amazing woman! Amer...       en\n",
       "41252  @GovSisolak The only thing you would be gratef...       en\n",
       "\n",
       "[20246 rows x 2 columns]"
      ]
     },
     "execution_count": 99,
     "metadata": {},
     "output_type": "execute_result"
    }
   ],
   "source": [
    "english_tweets = tweets[tweets['language']=='en']\n",
    "english_tweets"
   ]
  },
  {
   "cell_type": "code",
   "execution_count": 100,
   "metadata": {},
   "outputs": [
    {
     "data": {
      "text/plain": [
       "(20246, 2)"
      ]
     },
     "execution_count": 100,
     "metadata": {},
     "output_type": "execute_result"
    }
   ],
   "source": [
    "english_tweets.shape"
   ]
  },
  {
   "cell_type": "markdown",
   "metadata": {},
   "source": [
    "## Preprocess tweets"
   ]
  },
  {
   "cell_type": "code",
   "execution_count": 101,
   "metadata": {},
   "outputs": [],
   "source": [
    "english_tweets['prep_text'] = english_tweets['text'].apply(preprocess)"
   ]
  },
  {
   "cell_type": "code",
   "execution_count": 102,
   "metadata": {},
   "outputs": [
    {
     "data": {
      "text/plain": [
       "4        many people secretly deep kinda sorta hoping c...\n",
       "5        smart thinking country italy switzerland austr...\n",
       "6        live pope sick corona virus 8 chan founder run...\n",
       "9        pm say coronavirus 10x severe flu virus 10 tim...\n",
       "11       obviously seasoned economist instinct blaming ...\n",
       "                               ...                        \n",
       "41248                 ever hear corona virus cardi b voice\n",
       "41249    folk 18 month lockdown minimum forced vaccinat...\n",
       "41250    u favor stfu come corona virus clearly clue ta...\n",
       "41251    thankyougina amazing woman america winner covi...\n",
       "41252    thing would grateful lazy fat fuck somebody st...\n",
       "Name: prep_text, Length: 20246, dtype: object"
      ]
     },
     "execution_count": 102,
     "metadata": {},
     "output_type": "execute_result"
    }
   ],
   "source": [
    "english_tweets['prep_text']"
   ]
  },
  {
   "cell_type": "markdown",
   "metadata": {},
   "source": [
    "## Dropping duplicate tweets"
   ]
  },
  {
   "cell_type": "code",
   "execution_count": 103,
   "metadata": {},
   "outputs": [],
   "source": [
    "english_tweets = english_tweets.drop_duplicates(subset='text')"
   ]
  },
  {
   "cell_type": "code",
   "execution_count": 108,
   "metadata": {},
   "outputs": [
    {
     "data": {
      "text/plain": [
       "['many', 'people', 'secretly', 'deep', 'kinda', 'sorta', 'hoping', 'corona', 'virus', 'take', 'billy', '1', '2', 'billion', 'people', 'shhh', 'bud', 'tell', 'smart', 'thinking']"
      ]
     },
     "execution_count": 108,
     "metadata": {},
     "output_type": "execute_result"
    }
   ],
   "source": [
    "word_to_list = [word for line in english_tweets['prep_text'] for word in line.split()]\n",
    "word_to_list[:20]"
   ]
  },
  {
   "cell_type": "markdown",
   "metadata": {},
   "source": [
    "## Plotting Word Occurrence"
   ]
  },
  {
   "cell_type": "code",
   "execution_count": 109,
   "metadata": {},
   "outputs": [],
   "source": [
    "occurence = Counter(word_to_list).most_common(50)\n",
    "occurence_df = pd.DataFrame(occurence, columns=['word', 'frequency'])"
   ]
  },
  {
   "cell_type": "code",
   "execution_count": 110,
   "metadata": {},
   "outputs": [
    {
     "data": {
      "image/png": "[encoded data removed]",
      "text/plain": [
       "<Figure size 1152x864 with 1 Axes>"
      ]
     },
     "metadata": {
      "needs_background": "light"
     },
     "output_type": "display_data"
    }
   ],
   "source": [
    "fig, ax = plt.subplots(figsize = (16, 12))\n",
    "ax = sns.barplot(y=\"word\", x='frequency', \n",
    "                 ax = ax, data=occurence_df\n",
    "                    ).set(title = \"Word Occurence Frequency\", xlabel = 'Frequency', ylabel = 'Words' )"
   ]
  },
  {
   "cell_type": "markdown",
   "metadata": {},
   "source": [
    "## Plotting the Word Cloud"
   ]
  },
  {
   "cell_type": "code",
   "execution_count": 111,
   "metadata": {},
   "outputs": [
    {
     "data": {
      "image/png": "[encoded data removed]",
      "text/plain": [
       "<Figure size 1008x864 with 1 Axes>"
      ]
     },
     "metadata": {
      "needs_background": "light"
     },
     "output_type": "display_data"
    }
   ],
   "source": [
    "wordcloud = WordCloud(\n",
    "    max_words=100,\n",
    "    width=500,\n",
    "    height=260,\n",
    "    max_font_size=40, \n",
    "    scale=5,\n",
    "    random_state=2,\n",
    "    collocations=False,\n",
    "    normalize_plurals=False\n",
    ")\n",
    "\n",
    "wordcloud.generate(' '.join(word_to_list))\n",
    "\n",
    "\n",
    "plt.figure(figsize = (14, 12), facecolor = None)\n",
    "plt.imshow(wordcloud)\n",
    "plt.axis(\"off\")\n",
    "plt.tight_layout(pad = 0)"
   ]
  },
  {
   "cell_type": "markdown",
   "metadata": {},
   "source": [
    "## Predicting Sentiment from Trained Model"
   ]
  },
  {
   "cell_type": "code",
   "execution_count": null,
   "metadata": {
    "_kg_hide-output": true
   },
   "outputs": [],
   "source": [
    "%%time\n",
    "english_tweets['sentiments'] = english_tweets['prep_text'].apply(lambda x: predict(model, tweets = [x])['sentiment']);\n"
   ]
  },
  {
   "cell_type": "code",
   "execution_count": 125,
   "metadata": {},
   "outputs": [],
   "source": [
    "english_tweets.to_csv('english_tweets_final.csv')"
   ]
  },
  {
   "cell_type": "code",
   "execution_count": 126,
   "metadata": {},
   "outputs": [
    {
     "data": {
      "text/html": [
       "<div>\n",
       "<style scoped>\n",
       "    .dataframe tbody tr th:only-of-type {\n",
       "        vertical-align: middle;\n",
       "    }\n",
       "\n",
       "    .dataframe tbody tr th {\n",
       "        vertical-align: top;\n",
       "    }\n",
       "\n",
       "    .dataframe thead th {\n",
       "        text-align: right;\n",
       "    }\n",
       "</style>\n",
       "<table border=\"1\" class=\"dataframe\">\n",
       "  <thead>\n",
       "    <tr style=\"text-align: right;\">\n",
       "      <th></th>\n",
       "      <th>text</th>\n",
       "      <th>language</th>\n",
       "      <th>prep_text</th>\n",
       "      <th>sentiments</th>\n",
       "    </tr>\n",
       "  </thead>\n",
       "  <tbody>\n",
       "    <tr>\n",
       "      <th>4</th>\n",
       "      <td>@billburr So how many people are you secretly,...</td>\n",
       "      <td>en</td>\n",
       "      <td>many people secretly deep kinda sorta hoping c...</td>\n",
       "      <td>negative</td>\n",
       "    </tr>\n",
       "    <tr>\n",
       "      <th>5</th>\n",
       "      <td>What a smart thinking! While other countries s...</td>\n",
       "      <td>en</td>\n",
       "      <td>smart thinking country italy switzerland austr...</td>\n",
       "      <td>neutral</td>\n",
       "    </tr>\n",
       "    <tr>\n",
       "      <th>6</th>\n",
       "      <td>Live!! Pope Sick With Corona Virus, 8 Chan Fou...</td>\n",
       "      <td>en</td>\n",
       "      <td>live pope sick corona virus 8 chan founder run...</td>\n",
       "      <td>negative</td>\n",
       "    </tr>\n",
       "    <tr>\n",
       "      <th>9</th>\n",
       "      <td>PM says #coronavirus is 10x more severe than f...</td>\n",
       "      <td>en</td>\n",
       "      <td>pm say coronavirus 10x severe flu virus 10 tim...</td>\n",
       "      <td>negative</td>\n",
       "    </tr>\n",
       "    <tr>\n",
       "      <th>11</th>\n",
       "      <td>I'm obviously not a seasoned economist but my ...</td>\n",
       "      <td>en</td>\n",
       "      <td>obviously seasoned economist instinct blaming ...</td>\n",
       "      <td>neutral</td>\n",
       "    </tr>\n",
       "    <tr>\n",
       "      <th>...</th>\n",
       "      <td>...</td>\n",
       "      <td>...</td>\n",
       "      <td>...</td>\n",
       "      <td>...</td>\n",
       "    </tr>\n",
       "    <tr>\n",
       "      <th>41248</th>\n",
       "      <td>I’ll only ever hear corona virus in Cardi B’s ...</td>\n",
       "      <td>en</td>\n",
       "      <td>ever hear corona virus cardi b voice</td>\n",
       "      <td>negative</td>\n",
       "    </tr>\n",
       "    <tr>\n",
       "      <th>41249</th>\n",
       "      <td>There it is folks, 18 months of lockdown minim...</td>\n",
       "      <td>en</td>\n",
       "      <td>folk 18 month lockdown minimum forced vaccinat...</td>\n",
       "      <td>neutral</td>\n",
       "    </tr>\n",
       "    <tr>\n",
       "      <th>41250</th>\n",
       "      <td>Do us a favor @realDonaldTrump just STFU when ...</td>\n",
       "      <td>en</td>\n",
       "      <td>u favor stfu come corona virus clearly clue ta...</td>\n",
       "      <td>neutral</td>\n",
       "    </tr>\n",
       "    <tr>\n",
       "      <th>41251</th>\n",
       "      <td>#ThankYOUgina !!!\\nWhat an amazing woman! Amer...</td>\n",
       "      <td>en</td>\n",
       "      <td>thankyougina amazing woman america winner covi...</td>\n",
       "      <td>positive</td>\n",
       "    </tr>\n",
       "    <tr>\n",
       "      <th>41252</th>\n",
       "      <td>@GovSisolak The only thing you would be gratef...</td>\n",
       "      <td>en</td>\n",
       "      <td>thing would grateful lazy fat fuck somebody st...</td>\n",
       "      <td>negative</td>\n",
       "    </tr>\n",
       "  </tbody>\n",
       "</table>\n",
       "<p>19419 rows × 4 columns</p>\n",
       "</div>"
      ],
      "text/plain": [
       "                                                    text language  \\\n",
       "4      @billburr So how many people are you secretly,...       en   \n",
       "5      What a smart thinking! While other countries s...       en   \n",
       "6      Live!! Pope Sick With Corona Virus, 8 Chan Fou...       en   \n",
       "9      PM says #coronavirus is 10x more severe than f...       en   \n",
       "11     I'm obviously not a seasoned economist but my ...       en   \n",
       "...                                                  ...      ...   \n",
       "41248  I’ll only ever hear corona virus in Cardi B’s ...       en   \n",
       "41249  There it is folks, 18 months of lockdown minim...       en   \n",
       "41250  Do us a favor @realDonaldTrump just STFU when ...       en   \n",
       "41251  #ThankYOUgina !!!\\nWhat an amazing woman! Amer...       en   \n",
       "41252  @GovSisolak The only thing you would be gratef...       en   \n",
       "\n",
       "                                               prep_text sentiments  \n",
       "4      many people secretly deep kinda sorta hoping c...   negative  \n",
       "5      smart thinking country italy switzerland austr...    neutral  \n",
       "6      live pope sick corona virus 8 chan founder run...   negative  \n",
       "9      pm say coronavirus 10x severe flu virus 10 tim...   negative  \n",
       "11     obviously seasoned economist instinct blaming ...    neutral  \n",
       "...                                                  ...        ...  \n",
       "41248               ever hear corona virus cardi b voice   negative  \n",
       "41249  folk 18 month lockdown minimum forced vaccinat...    neutral  \n",
       "41250  u favor stfu come corona virus clearly clue ta...    neutral  \n",
       "41251  thankyougina amazing woman america winner covi...   positive  \n",
       "41252  thing would grateful lazy fat fuck somebody st...   negative  \n",
       "\n",
       "[19419 rows x 4 columns]"
      ]
     },
     "execution_count": 126,
     "metadata": {},
     "output_type": "execute_result"
    }
   ],
   "source": [
    "english_tweets"
   ]
  },
  {
   "cell_type": "code",
   "execution_count": 130,
   "metadata": {},
   "outputs": [
    {
     "data": {
      "text/html": [
       "<div>\n",
       "<style scoped>\n",
       "    .dataframe tbody tr th:only-of-type {\n",
       "        vertical-align: middle;\n",
       "    }\n",
       "\n",
       "    .dataframe tbody tr th {\n",
       "        vertical-align: top;\n",
       "    }\n",
       "\n",
       "    .dataframe thead th {\n",
       "        text-align: right;\n",
       "    }\n",
       "</style>\n",
       "<table border=\"1\" class=\"dataframe\">\n",
       "  <thead>\n",
       "    <tr style=\"text-align: right;\">\n",
       "      <th></th>\n",
       "      <th>sentiments</th>\n",
       "      <th>frequency</th>\n",
       "    </tr>\n",
       "  </thead>\n",
       "  <tbody>\n",
       "    <tr>\n",
       "      <th>0</th>\n",
       "      <td>negative</td>\n",
       "      <td>10073</td>\n",
       "    </tr>\n",
       "    <tr>\n",
       "      <th>1</th>\n",
       "      <td>neutral</td>\n",
       "      <td>6408</td>\n",
       "    </tr>\n",
       "    <tr>\n",
       "      <th>2</th>\n",
       "      <td>positive</td>\n",
       "      <td>2938</td>\n",
       "    </tr>\n",
       "  </tbody>\n",
       "</table>\n",
       "</div>"
      ],
      "text/plain": [
       "  sentiments  frequency\n",
       "0   negative      10073\n",
       "1    neutral       6408\n",
       "2   positive       2938"
      ]
     },
     "execution_count": 130,
     "metadata": {},
     "output_type": "execute_result"
    }
   ],
   "source": [
    "sentiment_counts_NN = pd.DataFrame.from_dict(Counter(english_tweets['sentiments']), orient = 'index').reset_index()\n",
    "sentiment_counts_NN.columns = ['sentiments', 'frequency']\n",
    "sentiment_counts_NN"
   ]
  },
  {
   "cell_type": "code",
   "execution_count": 131,
   "metadata": {},
   "outputs": [
    {
     "data": {
      "image/png": "[encoded data removed]",
      "text/plain": [
       "<Figure size 432x288 with 1 Axes>"
      ]
     },
     "metadata": {
      "needs_background": "light"
     },
     "output_type": "display_data"
    }
   ],
   "source": [
    "sns.barplot(y=\"frequency\", x='sentiments', data=sentiment_counts_NN).set(title = 'Sentiment Frequency')\n",
    "plt.show()"
   ]
  },
  {
   "cell_type": "markdown",
   "metadata": {},
   "source": [
    "## Sentiment Analysis using SentimentIntensityAnalyzer"
   ]
  },
  {
   "cell_type": "code",
   "execution_count": 135,
   "metadata": {},
   "outputs": [
    {
     "data": {
      "text/html": [
       "<div>\n",
       "<style scoped>\n",
       "    .dataframe tbody tr th:only-of-type {\n",
       "        vertical-align: middle;\n",
       "    }\n",
       "\n",
       "    .dataframe tbody tr th {\n",
       "        vertical-align: top;\n",
       "    }\n",
       "\n",
       "    .dataframe thead th {\n",
       "        text-align: right;\n",
       "    }\n",
       "</style>\n",
       "<table border=\"1\" class=\"dataframe\">\n",
       "  <thead>\n",
       "    <tr style=\"text-align: right;\">\n",
       "      <th></th>\n",
       "      <th>neg</th>\n",
       "      <th>neu</th>\n",
       "      <th>pos</th>\n",
       "      <th>compound</th>\n",
       "    </tr>\n",
       "  </thead>\n",
       "  <tbody>\n",
       "    <tr>\n",
       "      <th>0</th>\n",
       "      <td>0.000</td>\n",
       "      <td>0.871</td>\n",
       "      <td>0.129</td>\n",
       "      <td>0.3024</td>\n",
       "    </tr>\n",
       "    <tr>\n",
       "      <th>1</th>\n",
       "      <td>0.000</td>\n",
       "      <td>0.685</td>\n",
       "      <td>0.315</td>\n",
       "      <td>0.7783</td>\n",
       "    </tr>\n",
       "    <tr>\n",
       "      <th>2</th>\n",
       "      <td>0.401</td>\n",
       "      <td>0.599</td>\n",
       "      <td>0.000</td>\n",
       "      <td>-0.7717</td>\n",
       "    </tr>\n",
       "    <tr>\n",
       "      <th>3</th>\n",
       "      <td>0.380</td>\n",
       "      <td>0.620</td>\n",
       "      <td>0.000</td>\n",
       "      <td>-0.8555</td>\n",
       "    </tr>\n",
       "    <tr>\n",
       "      <th>4</th>\n",
       "      <td>0.276</td>\n",
       "      <td>0.421</td>\n",
       "      <td>0.304</td>\n",
       "      <td>0.1531</td>\n",
       "    </tr>\n",
       "  </tbody>\n",
       "</table>\n",
       "</div>"
      ],
      "text/plain": [
       "     neg    neu    pos  compound\n",
       "0  0.000  0.871  0.129    0.3024\n",
       "1  0.000  0.685  0.315    0.7783\n",
       "2  0.401  0.599  0.000   -0.7717\n",
       "3  0.380  0.620  0.000   -0.8555\n",
       "4  0.276  0.421  0.304    0.1531"
      ]
     },
     "execution_count": 135,
     "metadata": {},
     "output_type": "execute_result"
    }
   ],
   "source": [
    "#polarity score for each tweet\n",
    "sia_object = SentimentIntensityAnalyzer()\n",
    "polarity_scores = english_tweets['prep_text'].apply(lambda x: sia_object.polarity_scores(x))\n",
    "\n",
    "polarity_scores_df = pd.DataFrame(list(polarity_scores))\n",
    "polarity_scores_df.head()"
   ]
  },
  {
   "cell_type": "markdown",
   "metadata": {},
   "source": [
    "## Categorizing sentiments as positive, negative or neutral"
   ]
  },
  {
   "cell_type": "code",
   "execution_count": 136,
   "metadata": {},
   "outputs": [
    {
     "data": {
      "text/html": [
       "<div>\n",
       "<style scoped>\n",
       "    .dataframe tbody tr th:only-of-type {\n",
       "        vertical-align: middle;\n",
       "    }\n",
       "\n",
       "    .dataframe tbody tr th {\n",
       "        vertical-align: top;\n",
       "    }\n",
       "\n",
       "    .dataframe thead th {\n",
       "        text-align: right;\n",
       "    }\n",
       "</style>\n",
       "<table border=\"1\" class=\"dataframe\">\n",
       "  <thead>\n",
       "    <tr style=\"text-align: right;\">\n",
       "      <th></th>\n",
       "      <th>neg</th>\n",
       "      <th>neu</th>\n",
       "      <th>pos</th>\n",
       "      <th>compound</th>\n",
       "      <th>sentiment</th>\n",
       "    </tr>\n",
       "  </thead>\n",
       "  <tbody>\n",
       "    <tr>\n",
       "      <th>0</th>\n",
       "      <td>0.000</td>\n",
       "      <td>0.871</td>\n",
       "      <td>0.129</td>\n",
       "      <td>0.3024</td>\n",
       "      <td>positive</td>\n",
       "    </tr>\n",
       "    <tr>\n",
       "      <th>1</th>\n",
       "      <td>0.000</td>\n",
       "      <td>0.685</td>\n",
       "      <td>0.315</td>\n",
       "      <td>0.7783</td>\n",
       "      <td>positive</td>\n",
       "    </tr>\n",
       "    <tr>\n",
       "      <th>2</th>\n",
       "      <td>0.401</td>\n",
       "      <td>0.599</td>\n",
       "      <td>0.000</td>\n",
       "      <td>-0.7717</td>\n",
       "      <td>negative</td>\n",
       "    </tr>\n",
       "    <tr>\n",
       "      <th>3</th>\n",
       "      <td>0.380</td>\n",
       "      <td>0.620</td>\n",
       "      <td>0.000</td>\n",
       "      <td>-0.8555</td>\n",
       "      <td>negative</td>\n",
       "    </tr>\n",
       "    <tr>\n",
       "      <th>4</th>\n",
       "      <td>0.276</td>\n",
       "      <td>0.421</td>\n",
       "      <td>0.304</td>\n",
       "      <td>0.1531</td>\n",
       "      <td>positive</td>\n",
       "    </tr>\n",
       "  </tbody>\n",
       "</table>\n",
       "</div>"
      ],
      "text/plain": [
       "     neg    neu    pos  compound sentiment\n",
       "0  0.000  0.871  0.129    0.3024  positive\n",
       "1  0.000  0.685  0.315    0.7783  positive\n",
       "2  0.401  0.599  0.000   -0.7717  negative\n",
       "3  0.380  0.620  0.000   -0.8555  negative\n",
       "4  0.276  0.421  0.304    0.1531  positive"
      ]
     },
     "execution_count": 136,
     "metadata": {},
     "output_type": "execute_result"
    }
   ],
   "source": [
    "polarity_scores_df['sentiment'] = polarity_scores_df['compound'].apply(lambda x: 'neutral' if x == 0 else ('positive' if x > 0 else 'negative'))\n",
    "polarity_scores_df.head()\n"
   ]
  },
  {
   "cell_type": "code",
   "execution_count": 137,
   "metadata": {},
   "outputs": [
    {
     "data": {
      "text/html": [
       "<div>\n",
       "<style scoped>\n",
       "    .dataframe tbody tr th:only-of-type {\n",
       "        vertical-align: middle;\n",
       "    }\n",
       "\n",
       "    .dataframe tbody tr th {\n",
       "        vertical-align: top;\n",
       "    }\n",
       "\n",
       "    .dataframe thead th {\n",
       "        text-align: right;\n",
       "    }\n",
       "</style>\n",
       "<table border=\"1\" class=\"dataframe\">\n",
       "  <thead>\n",
       "    <tr style=\"text-align: right;\">\n",
       "      <th></th>\n",
       "      <th>sentiment</th>\n",
       "      <th>frequency</th>\n",
       "    </tr>\n",
       "  </thead>\n",
       "  <tbody>\n",
       "    <tr>\n",
       "      <th>0</th>\n",
       "      <td>positive</td>\n",
       "      <td>7865</td>\n",
       "    </tr>\n",
       "    <tr>\n",
       "      <th>1</th>\n",
       "      <td>negative</td>\n",
       "      <td>8255</td>\n",
       "    </tr>\n",
       "    <tr>\n",
       "      <th>2</th>\n",
       "      <td>neutral</td>\n",
       "      <td>3299</td>\n",
       "    </tr>\n",
       "  </tbody>\n",
       "</table>\n",
       "</div>"
      ],
      "text/plain": [
       "  sentiment  frequency\n",
       "0  positive       7865\n",
       "1  negative       8255\n",
       "2   neutral       3299"
      ]
     },
     "execution_count": 137,
     "metadata": {},
     "output_type": "execute_result"
    }
   ],
   "source": [
    "sentiment_counts = pd.DataFrame.from_dict(Counter(polarity_scores_df['sentiment']), orient = 'index').reset_index()\n",
    "sentiment_counts.columns = ['sentiment', 'frequency']\n",
    "sentiment_counts"
   ]
  },
  {
   "cell_type": "markdown",
   "metadata": {},
   "source": [
    "## Plotting sentiment frequency"
   ]
  },
  {
   "cell_type": "code",
   "execution_count": 138,
   "metadata": {},
   "outputs": [
    {
     "data": {
      "image/png": "[encoded data removed]",
      "text/plain": [
       "<Figure size 432x288 with 1 Axes>"
      ]
     },
     "metadata": {
      "needs_background": "light"
     },
     "output_type": "display_data"
    }
   ],
   "source": [
    "sns.barplot(y=\"frequency\", x='sentiment', data=sentiment_counts).set(title = 'Sentiment Frequency')\n",
    "plt.show()"
   ]
  },
  {
   "cell_type": "markdown",
   "metadata": {},
   "source": [
    "It appears there are lots of misclassification of sentiment labels in `SentimentIntensityAnalyzer` method."
   ]
  },
  {
   "cell_type": "markdown",
   "metadata": {},
   "source": [
    "## References\n",
    "\n",
    "1. https://www.kaggle.com/paoloripamonti/twitter-sentiment-analysis\n",
    "\n",
    "2. https://github.com/y33-j3T/Twitter-Sentiment-Analysis-Flask-App/blob/master/utils.py\n",
    "\n",
    "3. https://www.machinelearningplus.com/nlp/lemmatization-examples-python/\n",
    "\n",
    "4. https://github.com/UBC-MDS/DSCI_575_adv-mach-learn"
   ]
  }
 ],
 "metadata": {
  "kernelspec": {
   "display_name": "Python 3",
   "language": "python",
   "name": "python3"
  },
  "language_info": {
   "codemirror_mode": {
    "name": "ipython",
    "version": 3
   },
   "file_extension": ".py",
   "mimetype": "text/x-python",
   "name": "python",
   "nbconvert_exporter": "python",
   "pygments_lexer": "ipython3",
   "version": "3.7.7"
  }
 },
 "nbformat": 4,
 "nbformat_minor": 4
}
