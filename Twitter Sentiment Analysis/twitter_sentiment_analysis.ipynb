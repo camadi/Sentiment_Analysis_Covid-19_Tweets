{
 "cells": [
  {
   "cell_type": "code",
   "execution_count": 1,
   "metadata": {},
   "outputs": [
    {
     "name": "stderr",
     "output_type": "stream",
     "text": [
      "INFO: {'User-Agent': 'Mozilla/5.0 (compatible, MSIE 11, Windows NT 6.3; Trident/7.0; rv:11.0) like Gecko'}\n"
     ]
    }
   ],
   "source": [
    "from twitterscraper import query_tweets\n",
    "import datetime as dt \n",
    "import pandas as pd \n",
    "import cld3\n",
    "import re\n",
    "from collections import Counter\n",
    "from wordcloud import WordCloud\n",
    "\n",
    "#Disable pandas SettingWithCopyWarning\n",
    "pd.options.mode.chained_assignment = None  # default='warn'"
   ]
  },
  {
   "cell_type": "code",
   "execution_count": 2,
   "metadata": {},
   "outputs": [],
   "source": [
    "import nltk\n",
    "from nltk.corpus import stopwords\n",
    "from nltk.stem.porter import PorterStemmer\n",
    "from nltk.sentiment.vader import SentimentIntensityAnalyzer\n",
    "#nltk.download('vader_lexicon')\n",
    "\n",
    "from matplotlib import pyplot as plt\n",
    "import seaborn as sns"
   ]
  },
  {
   "cell_type": "code",
   "execution_count": 3,
   "metadata": {},
   "outputs": [],
   "source": [
    "def fetch_tweets(query, start_date, end_date, limit = 10000, language = \"English\"):\n",
    "    \"\"\"\n",
    "    start_date: date in form year,month,day\n",
    "    \"\"\"\n",
    "\n",
    "    tweets = query_tweets(query, begindate = start_date, enddate = end_date, limit = limit, lang = language)\n",
    "    df = pd.DataFrame(t.__dict__ for t in tweets)\n",
    "    return df"
   ]
  },
  {
   "cell_type": "code",
   "execution_count": 32,
   "metadata": {},
   "outputs": [],
   "source": [
    "start_date2 = dt.date(2020,2,1)\n",
    "end_date2 = dt.date(2020,2,28)\n",
    "\n",
    "start_date3 = dt.date(2020,3,1)\n",
    "end_date3 = dt.date(2020,3,31)\n",
    "\n",
    "start_date4 = dt.date(2020,4,1)\n",
    "end_date4 = dt.date(2020,5,1)\n",
    "\n",
    "limit = 25000\n",
    "query = \"coronavirus OR covid OR covid19 OR covid-19 OR corona virus OR #COVID19, OR #CoronavirusOutbreak\" "
   ]
  },
  {
   "cell_type": "code",
   "execution_count": null,
   "metadata": {},
   "outputs": [],
   "source": [
    "tweets2 = fetch_tweets(query, start_date2, end_date2, limit = limit, language = 'english')"
   ]
  },
  {
   "cell_type": "code",
   "execution_count": 24,
   "metadata": {},
   "outputs": [
    {
     "data": {
      "text/plain": [
       "(13935, 21)"
      ]
     },
     "execution_count": 24,
     "metadata": {},
     "output_type": "execute_result"
    }
   ],
   "source": [
    "tweets2.shape"
   ]
  },
  {
   "cell_type": "code",
   "execution_count": 21,
   "metadata": {},
   "outputs": [],
   "source": [
    "tweets2.to_csv (r'./data/tweets2.csv', index = False, header=True)"
   ]
  },
  {
   "cell_type": "code",
   "execution_count": null,
   "metadata": {},
   "outputs": [],
   "source": [
    "tweets3 = fetch_tweets(query, start_date3, end_date3, limit = limit, language = 'english')"
   ]
  },
  {
   "cell_type": "code",
   "execution_count": 31,
   "metadata": {},
   "outputs": [
    {
     "data": {
      "text/plain": [
       "(13767, 21)"
      ]
     },
     "execution_count": 31,
     "metadata": {},
     "output_type": "execute_result"
    }
   ],
   "source": [
    "tweets3.shape"
   ]
  },
  {
   "cell_type": "code",
   "execution_count": 25,
   "metadata": {},
   "outputs": [],
   "source": [
    "tweets3.to_csv (r'./data/tweets3.csv', index = False, header=True)"
   ]
  },
  {
   "cell_type": "code",
   "execution_count": null,
   "metadata": {},
   "outputs": [],
   "source": [
    "tweets4 = fetch_tweets(query, start_date4, end_date4, limit = limit, language = 'english')"
   ]
  },
  {
   "cell_type": "code",
   "execution_count": 35,
   "metadata": {},
   "outputs": [],
   "source": [
    "tweets4.to_csv (r'./data/tweets4.csv', index = False, header=True)"
   ]
  },
  {
   "cell_type": "code",
   "execution_count": 34,
   "metadata": {},
   "outputs": [
    {
     "data": {
      "text/plain": [
       "(13552, 21)"
      ]
     },
     "execution_count": 34,
     "metadata": {},
     "output_type": "execute_result"
    }
   ],
   "source": [
    "tweets4.shape"
   ]
  },
  {
   "cell_type": "code",
   "execution_count": 49,
   "metadata": {},
   "outputs": [],
   "source": [
    "tweets = pd.concat([tweets2, tweets3, tweets4])\n",
    "tweets.to_csv (r'./data/tweets.csv', index = False, header=True)"
   ]
  },
  {
   "cell_type": "code",
   "execution_count": 53,
   "metadata": {},
   "outputs": [
    {
     "data": {
      "text/html": [
       "<div>\n",
       "<style scoped>\n",
       "    .dataframe tbody tr th:only-of-type {\n",
       "        vertical-align: middle;\n",
       "    }\n",
       "\n",
       "    .dataframe tbody tr th {\n",
       "        vertical-align: top;\n",
       "    }\n",
       "\n",
       "    .dataframe thead th {\n",
       "        text-align: right;\n",
       "    }\n",
       "</style>\n",
       "<table border=\"1\" class=\"dataframe\">\n",
       "  <thead>\n",
       "    <tr style=\"text-align: right;\">\n",
       "      <th></th>\n",
       "      <th>screen_name</th>\n",
       "      <th>username</th>\n",
       "      <th>user_id</th>\n",
       "      <th>tweet_id</th>\n",
       "      <th>tweet_url</th>\n",
       "      <th>timestamp</th>\n",
       "      <th>timestamp_epochs</th>\n",
       "      <th>text</th>\n",
       "      <th>text_html</th>\n",
       "      <th>links</th>\n",
       "      <th>...</th>\n",
       "      <th>has_media</th>\n",
       "      <th>img_urls</th>\n",
       "      <th>video_url</th>\n",
       "      <th>likes</th>\n",
       "      <th>retweets</th>\n",
       "      <th>replies</th>\n",
       "      <th>is_replied</th>\n",
       "      <th>is_reply_to</th>\n",
       "      <th>parent_tweet_id</th>\n",
       "      <th>reply_to_users</th>\n",
       "    </tr>\n",
       "  </thead>\n",
       "  <tbody>\n",
       "    <tr>\n",
       "      <th>0</th>\n",
       "      <td>geziel_goes</td>\n",
       "      <td>Dr. Geziel Goes🇧🇷🇵🇹</td>\n",
       "      <td>4867434249</td>\n",
       "      <td>1233180006743969792</td>\n",
       "      <td>/geziel_goes/status/1233180006743969792</td>\n",
       "      <td>2020-02-27 23:59:59</td>\n",
       "      <td>1582847999</td>\n",
       "      <td>Se o Coronavirus esta derrubando a bolsa no Br...</td>\n",
       "      <td>&lt;p class=\"TweetTextSize js-tweet-text tweet-te...</td>\n",
       "      <td>[]</td>\n",
       "      <td>...</td>\n",
       "      <td>False</td>\n",
       "      <td>[]</td>\n",
       "      <td></td>\n",
       "      <td>0</td>\n",
       "      <td>0</td>\n",
       "      <td>0</td>\n",
       "      <td>False</td>\n",
       "      <td>False</td>\n",
       "      <td></td>\n",
       "      <td>[]</td>\n",
       "    </tr>\n",
       "    <tr>\n",
       "      <th>1</th>\n",
       "      <td>Covid_19Time</td>\n",
       "      <td>COVID-19</td>\n",
       "      <td>1146021318082609152</td>\n",
       "      <td>1233180006655909888</td>\n",
       "      <td>/Covid_19Time/status/1233180006655909888</td>\n",
       "      <td>2020-02-27 23:59:59</td>\n",
       "      <td>1582847999</td>\n",
       "      <td>#Coronavirus #COVID19 \\n\\nIt’s going global  @...</td>\n",
       "      <td>&lt;p class=\"TweetTextSize js-tweet-text tweet-te...</td>\n",
       "      <td>[https://twitter.com/Covid_19Time/status/12270...</td>\n",
       "      <td>...</td>\n",
       "      <td>True</td>\n",
       "      <td>[https://pbs.twimg.com/media/ER0irN5U0AADXHK.jpg]</td>\n",
       "      <td></td>\n",
       "      <td>26</td>\n",
       "      <td>8</td>\n",
       "      <td>2</td>\n",
       "      <td>True</td>\n",
       "      <td>False</td>\n",
       "      <td></td>\n",
       "      <td>[]</td>\n",
       "    </tr>\n",
       "    <tr>\n",
       "      <th>2</th>\n",
       "      <td>29Toninho</td>\n",
       "      <td>Toninho</td>\n",
       "      <td>585940381</td>\n",
       "      <td>1233180004030152704</td>\n",
       "      <td>/29Toninho/status/1233180004030152704</td>\n",
       "      <td>2020-02-27 23:59:58</td>\n",
       "      <td>1582847998</td>\n",
       "      <td>Bien por esa acción. Es difícil navegar por el...</td>\n",
       "      <td>&lt;p class=\"TweetTextSize js-tweet-text tweet-te...</td>\n",
       "      <td>[]</td>\n",
       "      <td>...</td>\n",
       "      <td>False</td>\n",
       "      <td>[]</td>\n",
       "      <td></td>\n",
       "      <td>0</td>\n",
       "      <td>0</td>\n",
       "      <td>0</td>\n",
       "      <td>False</td>\n",
       "      <td>True</td>\n",
       "      <td>1233054192756875264</td>\n",
       "      <td>[{'screen_name': 'Anaro74', 'user_id': '104697...</td>\n",
       "    </tr>\n",
       "    <tr>\n",
       "      <th>3</th>\n",
       "      <td>BrendynMorgan</td>\n",
       "      <td>b</td>\n",
       "      <td>263311303</td>\n",
       "      <td>1233180001496969222</td>\n",
       "      <td>/BrendynMorgan/status/1233180001496969222</td>\n",
       "      <td>2020-02-27 23:59:58</td>\n",
       "      <td>1582847998</td>\n",
       "      <td>This damn Corona virus knocked my stocks all t...</td>\n",
       "      <td>&lt;p class=\"TweetTextSize js-tweet-text tweet-te...</td>\n",
       "      <td>[]</td>\n",
       "      <td>...</td>\n",
       "      <td>False</td>\n",
       "      <td>[]</td>\n",
       "      <td></td>\n",
       "      <td>1</td>\n",
       "      <td>0</td>\n",
       "      <td>0</td>\n",
       "      <td>False</td>\n",
       "      <td>False</td>\n",
       "      <td></td>\n",
       "      <td>[]</td>\n",
       "    </tr>\n",
       "    <tr>\n",
       "      <th>4</th>\n",
       "      <td>BlindedSteer</td>\n",
       "      <td>Dusty Arth</td>\n",
       "      <td>460892027</td>\n",
       "      <td>1233179999605145600</td>\n",
       "      <td>/BlindedSteer/status/1233179999605145600</td>\n",
       "      <td>2020-02-27 23:59:57</td>\n",
       "      <td>1582847997</td>\n",
       "      <td>@billburr So how many people are you secretly,...</td>\n",
       "      <td>&lt;p class=\"TweetTextSize js-tweet-text tweet-te...</td>\n",
       "      <td>[]</td>\n",
       "      <td>...</td>\n",
       "      <td>False</td>\n",
       "      <td>[]</td>\n",
       "      <td></td>\n",
       "      <td>0</td>\n",
       "      <td>0</td>\n",
       "      <td>0</td>\n",
       "      <td>False</td>\n",
       "      <td>False</td>\n",
       "      <td></td>\n",
       "      <td>[]</td>\n",
       "    </tr>\n",
       "    <tr>\n",
       "      <th>5</th>\n",
       "      <td>chanonthemove</td>\n",
       "      <td>Chan</td>\n",
       "      <td>918945874318835712</td>\n",
       "      <td>1233179999303110656</td>\n",
       "      <td>/chanonthemove/status/1233179999303110656</td>\n",
       "      <td>2020-02-27 23:59:57</td>\n",
       "      <td>1582847997</td>\n",
       "      <td>What a smart thinking! While other countries s...</td>\n",
       "      <td>&lt;p class=\"TweetTextSize js-tweet-text tweet-te...</td>\n",
       "      <td>[]</td>\n",
       "      <td>...</td>\n",
       "      <td>False</td>\n",
       "      <td>[]</td>\n",
       "      <td></td>\n",
       "      <td>0</td>\n",
       "      <td>0</td>\n",
       "      <td>0</td>\n",
       "      <td>False</td>\n",
       "      <td>True</td>\n",
       "      <td>1233134824761643008</td>\n",
       "      <td>[{'screen_name': 'BreakfastNews', 'user_id': '...</td>\n",
       "    </tr>\n",
       "    <tr>\n",
       "      <th>6</th>\n",
       "      <td>realinformative</td>\n",
       "      <td>Informative Info ⭐⭐⭐</td>\n",
       "      <td>991438909841199104</td>\n",
       "      <td>1233179996900020229</td>\n",
       "      <td>/realinformative/status/1233179996900020229</td>\n",
       "      <td>2020-02-27 23:59:57</td>\n",
       "      <td>1582847997</td>\n",
       "      <td>Live!! Pope Sick With Corona Virus, 8 Chan Fou...</td>\n",
       "      <td>&lt;p class=\"TweetTextSize js-tweet-text tweet-te...</td>\n",
       "      <td>[https://www.youtube.com/watch?v=o4y8_Gn98Ko]</td>\n",
       "      <td>...</td>\n",
       "      <td>False</td>\n",
       "      <td>[]</td>\n",
       "      <td></td>\n",
       "      <td>1</td>\n",
       "      <td>0</td>\n",
       "      <td>0</td>\n",
       "      <td>False</td>\n",
       "      <td>False</td>\n",
       "      <td></td>\n",
       "      <td>[]</td>\n",
       "    </tr>\n",
       "    <tr>\n",
       "      <th>7</th>\n",
       "      <td>Giovanna_V19</td>\n",
       "      <td>Vieira💻</td>\n",
       "      <td>4623487643</td>\n",
       "      <td>1233179996782518272</td>\n",
       "      <td>/Giovanna_V19/status/1233179996782518272</td>\n",
       "      <td>2020-02-27 23:59:57</td>\n",
       "      <td>1582847997</td>\n",
       "      <td>Meu irmão chorando feito doido por medo de mor...</td>\n",
       "      <td>&lt;p class=\"TweetTextSize js-tweet-text tweet-te...</td>\n",
       "      <td>[]</td>\n",
       "      <td>...</td>\n",
       "      <td>False</td>\n",
       "      <td>[]</td>\n",
       "      <td></td>\n",
       "      <td>2</td>\n",
       "      <td>0</td>\n",
       "      <td>0</td>\n",
       "      <td>False</td>\n",
       "      <td>False</td>\n",
       "      <td></td>\n",
       "      <td>[]</td>\n",
       "    </tr>\n",
       "    <tr>\n",
       "      <th>8</th>\n",
       "      <td>_RebekaC</td>\n",
       "      <td>vá lavar as mãos ♒</td>\n",
       "      <td>72704465</td>\n",
       "      <td>1233179993091563526</td>\n",
       "      <td>/_RebekaC/status/1233179993091563526</td>\n",
       "      <td>2020-02-27 23:59:56</td>\n",
       "      <td>1582847996</td>\n",
       "      <td>O corona virus pega o médico primeiro</td>\n",
       "      <td>&lt;p class=\"TweetTextSize js-tweet-text tweet-te...</td>\n",
       "      <td>[]</td>\n",
       "      <td>...</td>\n",
       "      <td>False</td>\n",
       "      <td>[]</td>\n",
       "      <td></td>\n",
       "      <td>0</td>\n",
       "      <td>0</td>\n",
       "      <td>1</td>\n",
       "      <td>True</td>\n",
       "      <td>True</td>\n",
       "      <td>1233179510117453824</td>\n",
       "      <td>[{'screen_name': 'babiesticx', 'user_id': '116...</td>\n",
       "    </tr>\n",
       "    <tr>\n",
       "      <th>9</th>\n",
       "      <td>VirusWatchAU</td>\n",
       "      <td>VirusWatchAU</td>\n",
       "      <td>1221228266263957509</td>\n",
       "      <td>1233179992592281601</td>\n",
       "      <td>/VirusWatchAU/status/1233179992592281601</td>\n",
       "      <td>2020-02-27 23:59:56</td>\n",
       "      <td>1582847996</td>\n",
       "      <td>PM says #coronavirus is 10x more severe than f...</td>\n",
       "      <td>&lt;p class=\"TweetTextSize js-tweet-text tweet-te...</td>\n",
       "      <td>[]</td>\n",
       "      <td>...</td>\n",
       "      <td>False</td>\n",
       "      <td>[]</td>\n",
       "      <td></td>\n",
       "      <td>0</td>\n",
       "      <td>1</td>\n",
       "      <td>0</td>\n",
       "      <td>False</td>\n",
       "      <td>False</td>\n",
       "      <td></td>\n",
       "      <td>[]</td>\n",
       "    </tr>\n",
       "  </tbody>\n",
       "</table>\n",
       "<p>10 rows × 21 columns</p>\n",
       "</div>"
      ],
      "text/plain": [
       "       screen_name              username              user_id  \\\n",
       "0      geziel_goes   Dr. Geziel Goes🇧🇷🇵🇹           4867434249   \n",
       "1     Covid_19Time              COVID-19  1146021318082609152   \n",
       "2        29Toninho               Toninho            585940381   \n",
       "3    BrendynMorgan                     b            263311303   \n",
       "4     BlindedSteer            Dusty Arth            460892027   \n",
       "5    chanonthemove                  Chan   918945874318835712   \n",
       "6  realinformative  Informative Info ⭐⭐⭐   991438909841199104   \n",
       "7     Giovanna_V19               Vieira💻           4623487643   \n",
       "8         _RebekaC    vá lavar as mãos ♒             72704465   \n",
       "9     VirusWatchAU          VirusWatchAU  1221228266263957509   \n",
       "\n",
       "              tweet_id                                    tweet_url  \\\n",
       "0  1233180006743969792      /geziel_goes/status/1233180006743969792   \n",
       "1  1233180006655909888     /Covid_19Time/status/1233180006655909888   \n",
       "2  1233180004030152704        /29Toninho/status/1233180004030152704   \n",
       "3  1233180001496969222    /BrendynMorgan/status/1233180001496969222   \n",
       "4  1233179999605145600     /BlindedSteer/status/1233179999605145600   \n",
       "5  1233179999303110656    /chanonthemove/status/1233179999303110656   \n",
       "6  1233179996900020229  /realinformative/status/1233179996900020229   \n",
       "7  1233179996782518272     /Giovanna_V19/status/1233179996782518272   \n",
       "8  1233179993091563526         /_RebekaC/status/1233179993091563526   \n",
       "9  1233179992592281601     /VirusWatchAU/status/1233179992592281601   \n",
       "\n",
       "            timestamp  timestamp_epochs  \\\n",
       "0 2020-02-27 23:59:59        1582847999   \n",
       "1 2020-02-27 23:59:59        1582847999   \n",
       "2 2020-02-27 23:59:58        1582847998   \n",
       "3 2020-02-27 23:59:58        1582847998   \n",
       "4 2020-02-27 23:59:57        1582847997   \n",
       "5 2020-02-27 23:59:57        1582847997   \n",
       "6 2020-02-27 23:59:57        1582847997   \n",
       "7 2020-02-27 23:59:57        1582847997   \n",
       "8 2020-02-27 23:59:56        1582847996   \n",
       "9 2020-02-27 23:59:56        1582847996   \n",
       "\n",
       "                                                text  \\\n",
       "0  Se o Coronavirus esta derrubando a bolsa no Br...   \n",
       "1  #Coronavirus #COVID19 \\n\\nIt’s going global  @...   \n",
       "2  Bien por esa acción. Es difícil navegar por el...   \n",
       "3  This damn Corona virus knocked my stocks all t...   \n",
       "4  @billburr So how many people are you secretly,...   \n",
       "5  What a smart thinking! While other countries s...   \n",
       "6  Live!! Pope Sick With Corona Virus, 8 Chan Fou...   \n",
       "7  Meu irmão chorando feito doido por medo de mor...   \n",
       "8              O corona virus pega o médico primeiro   \n",
       "9  PM says #coronavirus is 10x more severe than f...   \n",
       "\n",
       "                                           text_html  \\\n",
       "0  <p class=\"TweetTextSize js-tweet-text tweet-te...   \n",
       "1  <p class=\"TweetTextSize js-tweet-text tweet-te...   \n",
       "2  <p class=\"TweetTextSize js-tweet-text tweet-te...   \n",
       "3  <p class=\"TweetTextSize js-tweet-text tweet-te...   \n",
       "4  <p class=\"TweetTextSize js-tweet-text tweet-te...   \n",
       "5  <p class=\"TweetTextSize js-tweet-text tweet-te...   \n",
       "6  <p class=\"TweetTextSize js-tweet-text tweet-te...   \n",
       "7  <p class=\"TweetTextSize js-tweet-text tweet-te...   \n",
       "8  <p class=\"TweetTextSize js-tweet-text tweet-te...   \n",
       "9  <p class=\"TweetTextSize js-tweet-text tweet-te...   \n",
       "\n",
       "                                               links  ... has_media  \\\n",
       "0                                                 []  ...     False   \n",
       "1  [https://twitter.com/Covid_19Time/status/12270...  ...      True   \n",
       "2                                                 []  ...     False   \n",
       "3                                                 []  ...     False   \n",
       "4                                                 []  ...     False   \n",
       "5                                                 []  ...     False   \n",
       "6      [https://www.youtube.com/watch?v=o4y8_Gn98Ko]  ...     False   \n",
       "7                                                 []  ...     False   \n",
       "8                                                 []  ...     False   \n",
       "9                                                 []  ...     False   \n",
       "\n",
       "                                            img_urls video_url likes  \\\n",
       "0                                                 []               0   \n",
       "1  [https://pbs.twimg.com/media/ER0irN5U0AADXHK.jpg]              26   \n",
       "2                                                 []               0   \n",
       "3                                                 []               1   \n",
       "4                                                 []               0   \n",
       "5                                                 []               0   \n",
       "6                                                 []               1   \n",
       "7                                                 []               2   \n",
       "8                                                 []               0   \n",
       "9                                                 []               0   \n",
       "\n",
       "   retweets  replies  is_replied  is_reply_to      parent_tweet_id  \\\n",
       "0         0        0       False        False                        \n",
       "1         8        2        True        False                        \n",
       "2         0        0       False         True  1233054192756875264   \n",
       "3         0        0       False        False                        \n",
       "4         0        0       False        False                        \n",
       "5         0        0       False         True  1233134824761643008   \n",
       "6         0        0       False        False                        \n",
       "7         0        0       False        False                        \n",
       "8         0        1        True         True  1233179510117453824   \n",
       "9         1        0       False        False                        \n",
       "\n",
       "                                      reply_to_users  \n",
       "0                                                 []  \n",
       "1                                                 []  \n",
       "2  [{'screen_name': 'Anaro74', 'user_id': '104697...  \n",
       "3                                                 []  \n",
       "4                                                 []  \n",
       "5  [{'screen_name': 'BreakfastNews', 'user_id': '...  \n",
       "6                                                 []  \n",
       "7                                                 []  \n",
       "8  [{'screen_name': 'babiesticx', 'user_id': '116...  \n",
       "9                                                 []  \n",
       "\n",
       "[10 rows x 21 columns]"
      ]
     },
     "execution_count": 53,
     "metadata": {},
     "output_type": "execute_result"
    }
   ],
   "source": [
    "tweets.head(10)"
   ]
  },
  {
   "cell_type": "code",
   "execution_count": 25,
   "metadata": {},
   "outputs": [],
   "source": [
    "#Extract language of each tweet \n",
    "tweets['text'] = tweets['text'].apply(lambda x:str(x)) #remove floats\n",
    "\n",
    "tweets['language'] = tweets['text'].apply(cld3.get_language).map(lambda x: x[0]) #Get the language of each tweet"
   ]
  },
  {
   "cell_type": "code",
   "execution_count": 28,
   "metadata": {},
   "outputs": [
    {
     "data": {
      "text/html": [
       "<div>\n",
       "<style scoped>\n",
       "    .dataframe tbody tr th:only-of-type {\n",
       "        vertical-align: middle;\n",
       "    }\n",
       "\n",
       "    .dataframe tbody tr th {\n",
       "        vertical-align: top;\n",
       "    }\n",
       "\n",
       "    .dataframe thead th {\n",
       "        text-align: right;\n",
       "    }\n",
       "</style>\n",
       "<table border=\"1\" class=\"dataframe\">\n",
       "  <thead>\n",
       "    <tr style=\"text-align: right;\">\n",
       "      <th></th>\n",
       "      <th>text</th>\n",
       "      <th>language</th>\n",
       "    </tr>\n",
       "  </thead>\n",
       "  <tbody>\n",
       "    <tr>\n",
       "      <th>0</th>\n",
       "      <td>Se o Coronavirus esta derrubando a bolsa no Br...</td>\n",
       "      <td>pt</td>\n",
       "    </tr>\n",
       "    <tr>\n",
       "      <th>1</th>\n",
       "      <td>#Coronavirus #COVID19 \\n\\nIt’s going global  @...</td>\n",
       "      <td>no</td>\n",
       "    </tr>\n",
       "    <tr>\n",
       "      <th>2</th>\n",
       "      <td>Bien por esa acción. Es difícil navegar por el...</td>\n",
       "      <td>es</td>\n",
       "    </tr>\n",
       "    <tr>\n",
       "      <th>3</th>\n",
       "      <td>This damn Corona virus knocked my stocks all t...</td>\n",
       "      <td>mg</td>\n",
       "    </tr>\n",
       "    <tr>\n",
       "      <th>4</th>\n",
       "      <td>@billburr So how many people are you secretly,...</td>\n",
       "      <td>en</td>\n",
       "    </tr>\n",
       "    <tr>\n",
       "      <th>...</th>\n",
       "      <td>...</td>\n",
       "      <td>...</td>\n",
       "    </tr>\n",
       "    <tr>\n",
       "      <th>41249</th>\n",
       "      <td>There it is folks, 18 months of lockdown minim...</td>\n",
       "      <td>en</td>\n",
       "    </tr>\n",
       "    <tr>\n",
       "      <th>41250</th>\n",
       "      <td>Do us a favor @realDonaldTrump just STFU when ...</td>\n",
       "      <td>en</td>\n",
       "    </tr>\n",
       "    <tr>\n",
       "      <th>41251</th>\n",
       "      <td>#ThankYOUgina !!!\\nWhat an amazing woman! Amer...</td>\n",
       "      <td>en</td>\n",
       "    </tr>\n",
       "    <tr>\n",
       "      <th>41252</th>\n",
       "      <td>@GovSisolak The only thing you would be gratef...</td>\n",
       "      <td>en</td>\n",
       "    </tr>\n",
       "    <tr>\n",
       "      <th>41253</th>\n",
       "      <td>https://bit.ly/34i8LMM  --- Hong Kong: segundo...</td>\n",
       "      <td>ca</td>\n",
       "    </tr>\n",
       "  </tbody>\n",
       "</table>\n",
       "<p>41254 rows × 2 columns</p>\n",
       "</div>"
      ],
      "text/plain": [
       "                                                    text language\n",
       "0      Se o Coronavirus esta derrubando a bolsa no Br...       pt\n",
       "1      #Coronavirus #COVID19 \\n\\nIt’s going global  @...       no\n",
       "2      Bien por esa acción. Es difícil navegar por el...       es\n",
       "3      This damn Corona virus knocked my stocks all t...       mg\n",
       "4      @billburr So how many people are you secretly,...       en\n",
       "...                                                  ...      ...\n",
       "41249  There it is folks, 18 months of lockdown minim...       en\n",
       "41250  Do us a favor @realDonaldTrump just STFU when ...       en\n",
       "41251  #ThankYOUgina !!!\\nWhat an amazing woman! Amer...       en\n",
       "41252  @GovSisolak The only thing you would be gratef...       en\n",
       "41253  https://bit.ly/34i8LMM  --- Hong Kong: segundo...       ca\n",
       "\n",
       "[41254 rows x 2 columns]"
      ]
     },
     "execution_count": 28,
     "metadata": {},
     "output_type": "execute_result"
    }
   ],
   "source": [
    "tweets[['text', 'language']]"
   ]
  },
  {
   "cell_type": "markdown",
   "metadata": {},
   "source": [
    "## Obtain English tweets of interest"
   ]
  },
  {
   "cell_type": "code",
   "execution_count": 29,
   "metadata": {},
   "outputs": [
    {
     "data": {
      "text/html": [
       "<div>\n",
       "<style scoped>\n",
       "    .dataframe tbody tr th:only-of-type {\n",
       "        vertical-align: middle;\n",
       "    }\n",
       "\n",
       "    .dataframe tbody tr th {\n",
       "        vertical-align: top;\n",
       "    }\n",
       "\n",
       "    .dataframe thead th {\n",
       "        text-align: right;\n",
       "    }\n",
       "</style>\n",
       "<table border=\"1\" class=\"dataframe\">\n",
       "  <thead>\n",
       "    <tr style=\"text-align: right;\">\n",
       "      <th></th>\n",
       "      <th>text</th>\n",
       "      <th>language</th>\n",
       "    </tr>\n",
       "  </thead>\n",
       "  <tbody>\n",
       "    <tr>\n",
       "      <th>4</th>\n",
       "      <td>@billburr So how many people are you secretly,...</td>\n",
       "      <td>en</td>\n",
       "    </tr>\n",
       "    <tr>\n",
       "      <th>5</th>\n",
       "      <td>What a smart thinking! While other countries s...</td>\n",
       "      <td>en</td>\n",
       "    </tr>\n",
       "    <tr>\n",
       "      <th>6</th>\n",
       "      <td>Live!! Pope Sick With Corona Virus, 8 Chan Fou...</td>\n",
       "      <td>en</td>\n",
       "    </tr>\n",
       "    <tr>\n",
       "      <th>9</th>\n",
       "      <td>PM says #coronavirus is 10x more severe than f...</td>\n",
       "      <td>en</td>\n",
       "    </tr>\n",
       "    <tr>\n",
       "      <th>11</th>\n",
       "      <td>I'm obviously not a seasoned economist but my ...</td>\n",
       "      <td>en</td>\n",
       "    </tr>\n",
       "    <tr>\n",
       "      <th>...</th>\n",
       "      <td>...</td>\n",
       "      <td>...</td>\n",
       "    </tr>\n",
       "    <tr>\n",
       "      <th>41248</th>\n",
       "      <td>I’ll only ever hear corona virus in Cardi B’s ...</td>\n",
       "      <td>en</td>\n",
       "    </tr>\n",
       "    <tr>\n",
       "      <th>41249</th>\n",
       "      <td>There it is folks, 18 months of lockdown minim...</td>\n",
       "      <td>en</td>\n",
       "    </tr>\n",
       "    <tr>\n",
       "      <th>41250</th>\n",
       "      <td>Do us a favor @realDonaldTrump just STFU when ...</td>\n",
       "      <td>en</td>\n",
       "    </tr>\n",
       "    <tr>\n",
       "      <th>41251</th>\n",
       "      <td>#ThankYOUgina !!!\\nWhat an amazing woman! Amer...</td>\n",
       "      <td>en</td>\n",
       "    </tr>\n",
       "    <tr>\n",
       "      <th>41252</th>\n",
       "      <td>@GovSisolak The only thing you would be gratef...</td>\n",
       "      <td>en</td>\n",
       "    </tr>\n",
       "  </tbody>\n",
       "</table>\n",
       "<p>20246 rows × 2 columns</p>\n",
       "</div>"
      ],
      "text/plain": [
       "                                                    text language\n",
       "4      @billburr So how many people are you secretly,...       en\n",
       "5      What a smart thinking! While other countries s...       en\n",
       "6      Live!! Pope Sick With Corona Virus, 8 Chan Fou...       en\n",
       "9      PM says #coronavirus is 10x more severe than f...       en\n",
       "11     I'm obviously not a seasoned economist but my ...       en\n",
       "...                                                  ...      ...\n",
       "41248  I’ll only ever hear corona virus in Cardi B’s ...       en\n",
       "41249  There it is folks, 18 months of lockdown minim...       en\n",
       "41250  Do us a favor @realDonaldTrump just STFU when ...       en\n",
       "41251  #ThankYOUgina !!!\\nWhat an amazing woman! Amer...       en\n",
       "41252  @GovSisolak The only thing you would be gratef...       en\n",
       "\n",
       "[20246 rows x 2 columns]"
      ]
     },
     "execution_count": 29,
     "metadata": {},
     "output_type": "execute_result"
    }
   ],
   "source": [
    "english_tweets = tweets[tweets['language']=='en']\n",
    "english_tweets[['text', 'language']]"
   ]
  },
  {
   "cell_type": "code",
   "execution_count": 30,
   "metadata": {},
   "outputs": [
    {
     "data": {
      "text/plain": [
       "(20246, 22)"
      ]
     },
     "execution_count": 30,
     "metadata": {},
     "output_type": "execute_result"
    }
   ],
   "source": [
    "english_tweets.shape"
   ]
  },
  {
   "cell_type": "markdown",
   "metadata": {},
   "source": [
    "## Preprocess tweets"
   ]
  },
  {
   "cell_type": "code",
   "execution_count": 31,
   "metadata": {},
   "outputs": [],
   "source": [
    "stemmer = PorterStemmer()\n",
    "\n",
    "stop = stopwords.words('english')"
   ]
  },
  {
   "cell_type": "code",
   "execution_count": 39,
   "metadata": {},
   "outputs": [],
   "source": [
    "def preprocess(text):\n",
    "    text = text.lower()\n",
    "    text = re.sub(r'\\s{2,}', ' ', text)\n",
    "    text = re.sub(r'http\\S+', '', text)\n",
    "    text = ''.join([i for i in text if not i.isdigit()])\n",
    "    text = re.sub(r'pic\\S*\\s?', '', text)\n",
    "    text = re.sub('\\W', ' ', text)\n",
    "    text = re.sub('\\s+', ' ', text)\n",
    "    text = text.strip(' ')\n",
    "    \n",
    "    text = ' '.join([word for word in text.split() if word not in (stop)])\n",
    "    words=re.split(\"\\\\s+\",text)\n",
    "    stemmed_words=[stemmer.stem(word=word) for word in words]\n",
    "    \n",
    "    return ' '.join(stemmed_words)"
   ]
  },
  {
   "cell_type": "code",
   "execution_count": 40,
   "metadata": {},
   "outputs": [],
   "source": [
    "english_tweets['prep_text'] = english_tweets['text'].apply(preprocess)"
   ]
  },
  {
   "cell_type": "code",
   "execution_count": 49,
   "metadata": {},
   "outputs": [
    {
     "data": {
      "text/plain": [
       "4        billburr mani peopl secretli deep kinda sorta ...\n",
       "5        smart think countri itali switzerland austria ...\n",
       "6        live pope sick corona viru chan founder run so...\n",
       "9        pm say coronaviru x sever flu viru time sever ...\n",
       "11       obvious season economist instinct blame stock ...\n",
       "                               ...                        \n",
       "41248                   ever hear corona viru cardi b voic\n",
       "41249    folk month lockdown minimum forc vaccin newwor...\n",
       "41250    us favor realdonaldtrump stfu come corona viru...\n",
       "41251    thankyougina amaz woman america winner covid c...\n",
       "41252    govsisolak thing would grate lazi fat fuck som...\n",
       "Name: prep_text, Length: 20246, dtype: object"
      ]
     },
     "execution_count": 49,
     "metadata": {},
     "output_type": "execute_result"
    }
   ],
   "source": [
    "english_tweets['prep_text']"
   ]
  },
  {
   "cell_type": "code",
   "execution_count": 50,
   "metadata": {},
   "outputs": [
    {
     "data": {
      "text/plain": [
       "['billburr',\n",
       " 'mani',\n",
       " 'peopl',\n",
       " 'secretli',\n",
       " 'deep',\n",
       " 'kinda',\n",
       " 'sorta',\n",
       " 'hope',\n",
       " 'corona',\n",
       " 'viru',\n",
       " 'take',\n",
       " 'billi',\n",
       " 'billion',\n",
       " 'peopl',\n",
       " 'shhh',\n",
       " 'bud',\n",
       " 'tell',\n",
       " 'smart',\n",
       " 'think',\n",
       " 'countri']"
      ]
     },
     "execution_count": 50,
     "metadata": {},
     "output_type": "execute_result"
    }
   ],
   "source": [
    "word_to_list = [word for line in english_tweets['prep_text'] for word in line.split()]\n",
    "word_to_list[:20]"
   ]
  },
  {
   "cell_type": "markdown",
   "metadata": {},
   "source": [
    "## Plotting Word Occurrence"
   ]
  },
  {
   "cell_type": "code",
   "execution_count": 51,
   "metadata": {},
   "outputs": [],
   "source": [
    "occurence = Counter(word_to_list).most_common(50)\n",
    "occurence_df = pd.DataFrame(occurence, columns=['stemmed_word', 'frequency'])"
   ]
  },
  {
   "cell_type": "code",
   "execution_count": 52,
   "metadata": {},
   "outputs": [
    {
     "data": {
      "image/png": "[encoded data removed]",
      "text/plain": [
       "<Figure size 1152x864 with 1 Axes>"
      ]
     },
     "metadata": {
      "needs_background": "light"
     },
     "output_type": "display_data"
    }
   ],
   "source": [
    "fig, ax = plt.subplots(figsize = (16, 12))\n",
    "ax = sns.barplot(y=\"stemmed_word\", x='frequency', \n",
    "                 ax = ax, data=occurence_df\n",
    "                    ).set(title = \"Stemmed Word Occurence Frequency\", xlabel = 'Frequency', ylabel = 'Stemmed Words' )"
   ]
  },
  {
   "cell_type": "markdown",
   "metadata": {},
   "source": [
    "## Plotting the Word Cloud"
   ]
  },
  {
   "cell_type": "code",
   "execution_count": 56,
   "metadata": {},
   "outputs": [
    {
     "data": {
      "image/png": "[encoded data removed]",
      "text/plain": [
       "<Figure size 1008x864 with 1 Axes>"
      ]
     },
     "metadata": {
      "needs_background": "light"
     },
     "output_type": "display_data"
    }
   ],
   "source": [
    "wordcloud = WordCloud(\n",
    "    max_words=100,\n",
    "    width=500,\n",
    "    height=260,\n",
    "    max_font_size=40, \n",
    "    scale=5,\n",
    "    random_state=2,\n",
    "    collocations=False,\n",
    "    normalize_plurals=False\n",
    ")\n",
    "\n",
    "wordcloud.generate(' '.join(word_to_list))\n",
    "\n",
    "\n",
    "plt.figure(figsize = (14, 12), facecolor = None)\n",
    "plt.imshow(wordcloud)\n",
    "plt.axis(\"off\")\n",
    "plt.tight_layout(pad = 0)"
   ]
  },
  {
   "cell_type": "markdown",
   "metadata": {},
   "source": [
    "## Running Sentiment Analysis"
   ]
  },
  {
   "cell_type": "code",
   "execution_count": 57,
   "metadata": {},
   "outputs": [
    {
     "data": {
      "text/html": [
       "<div>\n",
       "<style scoped>\n",
       "    .dataframe tbody tr th:only-of-type {\n",
       "        vertical-align: middle;\n",
       "    }\n",
       "\n",
       "    .dataframe tbody tr th {\n",
       "        vertical-align: top;\n",
       "    }\n",
       "\n",
       "    .dataframe thead th {\n",
       "        text-align: right;\n",
       "    }\n",
       "</style>\n",
       "<table border=\"1\" class=\"dataframe\">\n",
       "  <thead>\n",
       "    <tr style=\"text-align: right;\">\n",
       "      <th></th>\n",
       "      <th>neg</th>\n",
       "      <th>neu</th>\n",
       "      <th>pos</th>\n",
       "      <th>compound</th>\n",
       "    </tr>\n",
       "  </thead>\n",
       "  <tbody>\n",
       "    <tr>\n",
       "      <th>0</th>\n",
       "      <td>0.000</td>\n",
       "      <td>0.873</td>\n",
       "      <td>0.127</td>\n",
       "      <td>0.3245</td>\n",
       "    </tr>\n",
       "    <tr>\n",
       "      <th>1</th>\n",
       "      <td>0.000</td>\n",
       "      <td>0.766</td>\n",
       "      <td>0.234</td>\n",
       "      <td>0.5994</td>\n",
       "    </tr>\n",
       "    <tr>\n",
       "      <th>2</th>\n",
       "      <td>0.401</td>\n",
       "      <td>0.599</td>\n",
       "      <td>0.000</td>\n",
       "      <td>-0.7717</td>\n",
       "    </tr>\n",
       "    <tr>\n",
       "      <th>3</th>\n",
       "      <td>0.215</td>\n",
       "      <td>0.785</td>\n",
       "      <td>0.000</td>\n",
       "      <td>-0.6369</td>\n",
       "    </tr>\n",
       "    <tr>\n",
       "      <th>4</th>\n",
       "      <td>0.248</td>\n",
       "      <td>0.437</td>\n",
       "      <td>0.316</td>\n",
       "      <td>0.3400</td>\n",
       "    </tr>\n",
       "  </tbody>\n",
       "</table>\n",
       "</div>"
      ],
      "text/plain": [
       "     neg    neu    pos  compound\n",
       "0  0.000  0.873  0.127    0.3245\n",
       "1  0.000  0.766  0.234    0.5994\n",
       "2  0.401  0.599  0.000   -0.7717\n",
       "3  0.215  0.785  0.000   -0.6369\n",
       "4  0.248  0.437  0.316    0.3400"
      ]
     },
     "execution_count": 57,
     "metadata": {},
     "output_type": "execute_result"
    }
   ],
   "source": [
    "#polarity score for each tweet\n",
    "sia_object = SentimentIntensityAnalyzer()\n",
    "polarity_scores = english_tweets['prep_text'].apply(lambda x: sia_object.polarity_scores(x))\n",
    "\n",
    "polarity_scores_df = pd.DataFrame(list(polarity_scores))\n",
    "polarity_scores_df.head()"
   ]
  },
  {
   "cell_type": "markdown",
   "metadata": {},
   "source": [
    "## Categorizing sentiments as positive, negative or neutral"
   ]
  },
  {
   "cell_type": "code",
   "execution_count": 58,
   "metadata": {},
   "outputs": [
    {
     "data": {
      "text/html": [
       "<div>\n",
       "<style scoped>\n",
       "    .dataframe tbody tr th:only-of-type {\n",
       "        vertical-align: middle;\n",
       "    }\n",
       "\n",
       "    .dataframe tbody tr th {\n",
       "        vertical-align: top;\n",
       "    }\n",
       "\n",
       "    .dataframe thead th {\n",
       "        text-align: right;\n",
       "    }\n",
       "</style>\n",
       "<table border=\"1\" class=\"dataframe\">\n",
       "  <thead>\n",
       "    <tr style=\"text-align: right;\">\n",
       "      <th></th>\n",
       "      <th>neg</th>\n",
       "      <th>neu</th>\n",
       "      <th>pos</th>\n",
       "      <th>compound</th>\n",
       "      <th>sentiment</th>\n",
       "    </tr>\n",
       "  </thead>\n",
       "  <tbody>\n",
       "    <tr>\n",
       "      <th>0</th>\n",
       "      <td>0.000</td>\n",
       "      <td>0.873</td>\n",
       "      <td>0.127</td>\n",
       "      <td>0.3245</td>\n",
       "      <td>positive</td>\n",
       "    </tr>\n",
       "    <tr>\n",
       "      <th>1</th>\n",
       "      <td>0.000</td>\n",
       "      <td>0.766</td>\n",
       "      <td>0.234</td>\n",
       "      <td>0.5994</td>\n",
       "      <td>positive</td>\n",
       "    </tr>\n",
       "    <tr>\n",
       "      <th>2</th>\n",
       "      <td>0.401</td>\n",
       "      <td>0.599</td>\n",
       "      <td>0.000</td>\n",
       "      <td>-0.7717</td>\n",
       "      <td>negative</td>\n",
       "    </tr>\n",
       "    <tr>\n",
       "      <th>3</th>\n",
       "      <td>0.215</td>\n",
       "      <td>0.785</td>\n",
       "      <td>0.000</td>\n",
       "      <td>-0.6369</td>\n",
       "      <td>negative</td>\n",
       "    </tr>\n",
       "    <tr>\n",
       "      <th>4</th>\n",
       "      <td>0.248</td>\n",
       "      <td>0.437</td>\n",
       "      <td>0.316</td>\n",
       "      <td>0.3400</td>\n",
       "      <td>positive</td>\n",
       "    </tr>\n",
       "  </tbody>\n",
       "</table>\n",
       "</div>"
      ],
      "text/plain": [
       "     neg    neu    pos  compound sentiment\n",
       "0  0.000  0.873  0.127    0.3245  positive\n",
       "1  0.000  0.766  0.234    0.5994  positive\n",
       "2  0.401  0.599  0.000   -0.7717  negative\n",
       "3  0.215  0.785  0.000   -0.6369  negative\n",
       "4  0.248  0.437  0.316    0.3400  positive"
      ]
     },
     "execution_count": 58,
     "metadata": {},
     "output_type": "execute_result"
    }
   ],
   "source": [
    "polarity_scores_df['sentiment'] = polarity_scores_df['compound'].apply(lambda x: 'neutral' if x == 0 else ('positive' if x > 0 else 'negative'))\n",
    "polarity_scores_df.head()\n"
   ]
  },
  {
   "cell_type": "code",
   "execution_count": 59,
   "metadata": {},
   "outputs": [
    {
     "data": {
      "text/html": [
       "<div>\n",
       "<style scoped>\n",
       "    .dataframe tbody tr th:only-of-type {\n",
       "        vertical-align: middle;\n",
       "    }\n",
       "\n",
       "    .dataframe tbody tr th {\n",
       "        vertical-align: top;\n",
       "    }\n",
       "\n",
       "    .dataframe thead th {\n",
       "        text-align: right;\n",
       "    }\n",
       "</style>\n",
       "<table border=\"1\" class=\"dataframe\">\n",
       "  <thead>\n",
       "    <tr style=\"text-align: right;\">\n",
       "      <th></th>\n",
       "      <th>sentiment</th>\n",
       "      <th>frequency</th>\n",
       "    </tr>\n",
       "  </thead>\n",
       "  <tbody>\n",
       "    <tr>\n",
       "      <th>0</th>\n",
       "      <td>positive</td>\n",
       "      <td>7612</td>\n",
       "    </tr>\n",
       "    <tr>\n",
       "      <th>1</th>\n",
       "      <td>negative</td>\n",
       "      <td>7720</td>\n",
       "    </tr>\n",
       "    <tr>\n",
       "      <th>2</th>\n",
       "      <td>neutral</td>\n",
       "      <td>4914</td>\n",
       "    </tr>\n",
       "  </tbody>\n",
       "</table>\n",
       "</div>"
      ],
      "text/plain": [
       "  sentiment  frequency\n",
       "0  positive       7612\n",
       "1  negative       7720\n",
       "2   neutral       4914"
      ]
     },
     "execution_count": 59,
     "metadata": {},
     "output_type": "execute_result"
    }
   ],
   "source": [
    "sentiment_counts = pd.DataFrame.from_dict(Counter(polarity_scores_df['sentiment']), orient = 'index').reset_index()\n",
    "sentiment_counts.columns = ['sentiment', 'frequency']\n",
    "sentiment_counts"
   ]
  },
  {
   "cell_type": "markdown",
   "metadata": {},
   "source": [
    "## Plotting sentiment frequency"
   ]
  },
  {
   "cell_type": "code",
   "execution_count": 60,
   "metadata": {},
   "outputs": [
    {
     "data": {
      "image/png": "[encoded data removed]",
      "text/plain": [
       "<Figure size 432x288 with 1 Axes>"
      ]
     },
     "metadata": {
      "needs_background": "light"
     },
     "output_type": "display_data"
    }
   ],
   "source": [
    "sns.barplot(y=\"frequency\", x='sentiment', data=sentiment_counts).set\n",
    "plt.show()"
   ]
  }
 ],
 "metadata": {
  "kernelspec": {
   "display_name": "Python 3",
   "language": "python",
   "name": "python3"
  },
  "language_info": {
   "codemirror_mode": {
    "name": "ipython",
    "version": 3
   },
   "file_extension": ".py",
   "mimetype": "text/x-python",
   "name": "python",
   "nbconvert_exporter": "python",
   "pygments_lexer": "ipython3",
   "version": "3.7.7"
  }
 },
 "nbformat": 4,
 "nbformat_minor": 4
}
